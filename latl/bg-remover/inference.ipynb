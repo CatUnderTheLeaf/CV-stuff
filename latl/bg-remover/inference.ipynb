{
 "cells": [
  {
   "cell_type": "code",
   "execution_count": 1,
   "id": "ef1e5f3a",
   "metadata": {},
   "outputs": [
    {
     "name": "stderr",
     "output_type": "stream",
     "text": [
      "2025-08-07 18:46:44.550790: I tensorflow/core/util/port.cc:113] oneDNN custom operations are on. You may see slightly different numerical results due to floating-point round-off errors from different computation orders. To turn them off, set the environment variable `TF_ENABLE_ONEDNN_OPTS=0`.\n",
      "2025-08-07 18:46:44.858582: I tensorflow/core/platform/cpu_feature_guard.cc:210] This TensorFlow binary is optimized to use available CPU instructions in performance-critical operations.\n",
      "To enable the following instructions: AVX2 AVX_VNNI FMA, in other operations, rebuild TensorFlow with the appropriate compiler flags.\n",
      "2025-08-07 18:46:45.917423: W tensorflow/compiler/tf2tensorrt/utils/py_utils.cc:38] TF-TRT Warning: Could not find TensorRT\n"
     ]
    }
   ],
   "source": [
    "import cv2 as cv\n",
    "import numpy as np\n",
    "import tensorflow as tf\n",
    "import matplotlib.pyplot as plt"
   ]
  },
  {
   "cell_type": "code",
   "execution_count": null,
   "id": "cb342642",
   "metadata": {},
   "outputs": [],
   "source": []
  },
  {
   "cell_type": "code",
   "execution_count": 2,
   "id": "4601a085",
   "metadata": {},
   "outputs": [],
   "source": [
    "# import unet\n",
    "# model = unet.createModel(256,256)\n",
    "# model.load_weights(\"model_unet_after_i_style.weights.h5\")\n",
    "# model.summary()"
   ]
  },
  {
   "cell_type": "code",
   "execution_count": 3,
   "id": "b0f0c498",
   "metadata": {},
   "outputs": [
    {
     "name": "stderr",
     "output_type": "stream",
     "text": [
      "2025-08-07 18:46:48.899014: I external/local_xla/xla/stream_executor/cuda/cuda_executor.cc:998] successful NUMA node read from SysFS had negative value (-1), but there must be at least one NUMA node, so returning NUMA node zero. See more at https://github.com/torvalds/linux/blob/v6.0/Documentation/ABI/testing/sysfs-bus-pci#L344-L355\n",
      "2025-08-07 18:46:49.127244: I external/local_xla/xla/stream_executor/cuda/cuda_executor.cc:998] successful NUMA node read from SysFS had negative value (-1), but there must be at least one NUMA node, so returning NUMA node zero. See more at https://github.com/torvalds/linux/blob/v6.0/Documentation/ABI/testing/sysfs-bus-pci#L344-L355\n",
      "2025-08-07 18:46:49.127957: I external/local_xla/xla/stream_executor/cuda/cuda_executor.cc:998] successful NUMA node read from SysFS had negative value (-1), but there must be at least one NUMA node, so returning NUMA node zero. See more at https://github.com/torvalds/linux/blob/v6.0/Documentation/ABI/testing/sysfs-bus-pci#L344-L355\n",
      "2025-08-07 18:46:49.132241: I external/local_xla/xla/stream_executor/cuda/cuda_executor.cc:998] successful NUMA node read from SysFS had negative value (-1), but there must be at least one NUMA node, so returning NUMA node zero. See more at https://github.com/torvalds/linux/blob/v6.0/Documentation/ABI/testing/sysfs-bus-pci#L344-L355\n",
      "2025-08-07 18:46:49.132819: I external/local_xla/xla/stream_executor/cuda/cuda_executor.cc:998] successful NUMA node read from SysFS had negative value (-1), but there must be at least one NUMA node, so returning NUMA node zero. See more at https://github.com/torvalds/linux/blob/v6.0/Documentation/ABI/testing/sysfs-bus-pci#L344-L355\n",
      "2025-08-07 18:46:49.133267: I external/local_xla/xla/stream_executor/cuda/cuda_executor.cc:998] successful NUMA node read from SysFS had negative value (-1), but there must be at least one NUMA node, so returning NUMA node zero. See more at https://github.com/torvalds/linux/blob/v6.0/Documentation/ABI/testing/sysfs-bus-pci#L344-L355\n",
      "2025-08-07 18:46:49.198305: I external/local_xla/xla/stream_executor/cuda/cuda_executor.cc:998] successful NUMA node read from SysFS had negative value (-1), but there must be at least one NUMA node, so returning NUMA node zero. See more at https://github.com/torvalds/linux/blob/v6.0/Documentation/ABI/testing/sysfs-bus-pci#L344-L355\n",
      "2025-08-07 18:46:49.198449: I external/local_xla/xla/stream_executor/cuda/cuda_executor.cc:998] successful NUMA node read from SysFS had negative value (-1), but there must be at least one NUMA node, so returning NUMA node zero. See more at https://github.com/torvalds/linux/blob/v6.0/Documentation/ABI/testing/sysfs-bus-pci#L344-L355\n",
      "2025-08-07 18:46:49.198539: I external/local_xla/xla/stream_executor/cuda/cuda_executor.cc:998] successful NUMA node read from SysFS had negative value (-1), but there must be at least one NUMA node, so returning NUMA node zero. See more at https://github.com/torvalds/linux/blob/v6.0/Documentation/ABI/testing/sysfs-bus-pci#L344-L355\n",
      "2025-08-07 18:46:49.199240: I tensorflow/core/common_runtime/gpu/gpu_device.cc:1928] Created device /job:localhost/replica:0/task:0/device:GPU:0 with 2282 MB memory:  -> device: 0, name: NVIDIA GeForce RTX 2050, pci bus id: 0000:01:00.0, compute capability: 8.6\n"
     ]
    }
   ],
   "source": [
    "import unet2\n",
    "model = unet2.build_u2net_lite((256, 256, 3), 2)\n",
    "model.load_weights(\"unet2_2.weights.h5\")"
   ]
  },
  {
   "cell_type": "code",
   "execution_count": 4,
   "id": "bcb5807a",
   "metadata": {},
   "outputs": [],
   "source": [
    "# model.summary()"
   ]
  },
  {
   "cell_type": "code",
   "execution_count": 5,
   "id": "95dacea8",
   "metadata": {},
   "outputs": [],
   "source": [
    "def show_image(images: np.array, masks: np.array):\n",
    "    \"\"\"Displays images and their corresponding masks.\n",
    "\n",
    "    Args:\n",
    "        images (np.array): Array of images.\n",
    "        masks (np.array): Array of masks.\n",
    "    \"\"\"\n",
    "    # Masks_NORM = mpl.colors.Normalize(vmin=0, vmax=59)\n",
    "    fig, axes = plt.subplots(images.shape[0], 2, figsize=(10, 10))\n",
    "\n",
    "    # Handle single image case\n",
    "    if images.shape[0] == 1:\n",
    "        axes = [axes]  # Wrap axes in a list if only one image\n",
    "\n",
    "    for ax, img, msk in zip(axes, images, masks):\n",
    "        im1 = ax[0].imshow(img, cmap=\"gray\")\n",
    "        # im2 = ax[1].imshow(msk, cmap='gray', norm=Masks_NORM)\n",
    "        im2 = ax[1].imshow(msk, cmap='gray')\n",
    "\n",
    "        ax[0].set_title(\"Image\")\n",
    "        ax[1].set_title(\"Mask\")\n",
    "\n",
    "        fig.colorbar(im2, ax=ax[1], orientation='vertical')\n",
    "\n",
    "    fig.tight_layout()"
   ]
  },
  {
   "cell_type": "code",
   "execution_count": 6,
   "id": "928aacfd",
   "metadata": {},
   "outputs": [],
   "source": [
    "def create_mask(pred_mask):\n",
    "    pred_mask = tf.argmax(pred_mask, axis=-1)\n",
    "    pred_mask = pred_mask[..., tf.newaxis]\n",
    "    return pred_mask[0]"
   ]
  },
  {
   "cell_type": "code",
   "execution_count": 12,
   "id": "efa59dc0",
   "metadata": {},
   "outputs": [],
   "source": [
    "TEST_IMAGES_PATH = \"/home/cat/projects/CV-stuff/latl/images\"\n",
    "IMAGE_WIDTH = 256\n",
    "IMAGE_HEIGHT = 256\n",
    "\n",
    "import glob\n",
    "import os\n",
    "\n",
    "def test_images(model, images_path: str):\n",
    "    images_paths = glob.glob(os.path.join(images_path, \"**\", \"*.jpg\"), recursive=True)\n",
    "    print(images_paths)\n",
    "    images = []\n",
    "    masks = []\n",
    "    for image_path in images_paths:\n",
    "        image = cv.imread(image_path, cv.IMREAD_COLOR)\n",
    "        w,h,ch = image.shape\n",
    "        image = cv.cvtColor(image, cv.COLOR_BGRA2RGB)\n",
    "        images.append(image)\n",
    "        image = cv.resize(image, (IMAGE_WIDTH, IMAGE_HEIGHT), interpolation=cv.INTER_NEAREST)\n",
    "        print(image.shape)\n",
    "        image = np.expand_dims(image, axis=0)\n",
    "        image = image.astype(np.float32) / 255.0\n",
    "        print(image.shape)\n",
    "        pred_mask = model.predict(image)\n",
    "        # print(\"mask shape\",pred_mask.shape)\n",
    "        pred_mask = create_mask(pred_mask)\n",
    "        # print(\"create_mask shape\",pred_mask.shape)\n",
    "        # pred_mask = np.squeeze(pred_mask)\n",
    "        pred_mask = np.array(pred_mask)\n",
    "        # print(\"squeeze shape\",pred_mask.shape)\n",
    "        pred_mask = cv.resize(pred_mask, (h, w), interpolation=cv.INTER_NEAREST)\n",
    "        # print(\"resize shape\",pred_mask.shape)\n",
    "        masks.append(pred_mask)\n",
    "        # cv.imwrite(\"predictions/\" + os.path.basename(image_path), pred_mask)\n",
    "    show_image(np.array(images)[:3], masks[:3])\n",
    "    show_image(np.array(images)[3:6], masks[3:6])\n",
    "    show_image(np.array(images)[6:9], masks[6:9])\n",
    "\n"
   ]
  },
  {
   "cell_type": "code",
   "execution_count": null,
   "id": "d140d10a",
   "metadata": {},
   "outputs": [
    {
     "name": "stdout",
     "output_type": "stream",
     "text": [
      "['/home/cat/projects/CV-stuff/latl/images/black/PXL_20250409_101951593.jpg', '/home/cat/projects/CV-stuff/latl/images/black/PXL_20250409_102319434.jpg', '/home/cat/projects/CV-stuff/latl/images/black/PXL_20250409_102306293.jpg', '/home/cat/projects/CV-stuff/latl/images/white/PXL_20250409_102225980.jpg', '/home/cat/projects/CV-stuff/latl/images/white/PXL_20250409_102121490.jpg', '/home/cat/projects/CV-stuff/latl/images/white/PXL_20250409_102136903.jpg', '/home/cat/projects/CV-stuff/latl/images/grey/PXL_20250409_102642919.jpg', '/home/cat/projects/CV-stuff/latl/images/grey/PXL_20250409_102601865.jpg', '/home/cat/projects/CV-stuff/latl/images/grey/PXL_20250409_102619587.jpg', '/home/cat/projects/CV-stuff/latl/images/green/PXL_20250409_102436529.jpg', '/home/cat/projects/CV-stuff/latl/images/green/PXL_20250409_102458390.jpg', '/home/cat/projects/CV-stuff/latl/images/green/PXL_20250409_102424514.jpg']\n",
      "(256, 256, 3)\n",
      "(1, 256, 256, 3)\n"
     ]
    },
    {
     "name": "stderr",
     "output_type": "stream",
     "text": [
      "WARNING: All log messages before absl::InitializeLog() is called are written to STDERR\n",
      "I0000 00:00:1754585326.264180  272003 service.cc:145] XLA service 0x782d68015fd0 initialized for platform CUDA (this does not guarantee that XLA will be used). Devices:\n",
      "I0000 00:00:1754585326.264410  272003 service.cc:153]   StreamExecutor device (0): NVIDIA GeForce RTX 2050, Compute Capability 8.6\n",
      "2025-08-07 18:48:46.354871: I tensorflow/compiler/mlir/tensorflow/utils/dump_mlir_util.cc:268] disabling MLIR crash reproducer, set env var `MLIR_CRASH_REPRODUCER_DIRECTORY` to enable.\n",
      "2025-08-07 18:48:46.980045: I external/local_xla/xla/stream_executor/cuda/cuda_dnn.cc:465] Loaded cuDNN version 8907\n"
     ]
    }
   ],
   "source": [
    "test_images(model, TEST_IMAGES_PATH)"
   ]
  }
 ],
 "metadata": {
  "kernelspec": {
   "display_name": "tf_env (3.10.12)",
   "language": "python",
   "name": "python3"
  },
  "language_info": {
   "codemirror_mode": {
    "name": "ipython",
    "version": 3
   },
   "file_extension": ".py",
   "mimetype": "text/x-python",
   "name": "python",
   "nbconvert_exporter": "python",
   "pygments_lexer": "ipython3",
   "version": "3.10.12"
  }
 },
 "nbformat": 4,
 "nbformat_minor": 5
}
