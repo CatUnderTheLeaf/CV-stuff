{
 "cells": [
  {
   "cell_type": "code",
   "execution_count": 52,
   "id": "c61ed8a7",
   "metadata": {},
   "outputs": [],
   "source": [
    "import pandas as pd\n",
    "import numpy as np\n",
    "from collections import Counter\n",
    "from PIL import Image\n",
    "import numpy as np\n",
    "from sklearn.metrics import classification_report\n",
    "from sklearn.model_selection import train_test_split\n",
    "from sklearn.metrics import *\n",
    "from sklearn.linear_model import LogisticRegression"
   ]
  },
  {
   "cell_type": "code",
   "execution_count": 96,
   "id": "1204d455",
   "metadata": {},
   "outputs": [],
   "source": [
    "saved_df = pd.read_csv(\"fashion-clip.csv\")"
   ]
  },
  {
   "cell_type": "code",
   "execution_count": 97,
   "id": "9bce0ec4",
   "metadata": {},
   "outputs": [
    {
     "data": {
      "text/plain": [
       "3705"
      ]
     },
     "execution_count": 97,
     "metadata": {},
     "output_type": "execute_result"
    }
   ],
   "source": [
    "len(saved_df)"
   ]
  },
  {
   "cell_type": "code",
   "execution_count": 94,
   "id": "625c3fd7",
   "metadata": {},
   "outputs": [],
   "source": [
    "# delete images with same embeddings\n",
    "\n",
    "subset = saved_df.drop_duplicates(\"embeddings\").copy()"
   ]
  },
  {
   "cell_type": "code",
   "execution_count": null,
   "id": "e402ca24",
   "metadata": {},
   "outputs": [
    {
     "data": {
      "text/plain": [
       "3705"
      ]
     },
     "execution_count": 76,
     "metadata": {},
     "output_type": "execute_result"
    }
   ],
   "source": [
    "len(subset)\n",
    "\n",
    "\n",
    "# TODO\n",
    "# Sweatshirt should have mid knit material"
   ]
  },
  {
   "cell_type": "code",
   "execution_count": 77,
   "id": "bbeb5ef8",
   "metadata": {},
   "outputs": [
    {
     "data": {
      "text/plain": [
       "category\n",
       "Casual T-shirts          1208\n",
       "Shirts & Blouses         1198\n",
       "Blazers and Tailoring     625\n",
       "Knits & Hoodies           435\n",
       "Tops                      239\n",
       "Name: count, dtype: int64"
      ]
     },
     "execution_count": 77,
     "metadata": {},
     "output_type": "execute_result"
    }
   ],
   "source": [
    "count = subset[\"category\"].value_counts()\n",
    "count"
   ]
  },
  {
   "cell_type": "code",
   "execution_count": 95,
   "id": "e3b9e957",
   "metadata": {},
   "outputs": [
    {
     "data": {
      "text/html": [
       "<div>\n",
       "<style scoped>\n",
       "    .dataframe tbody tr th:only-of-type {\n",
       "        vertical-align: middle;\n",
       "    }\n",
       "\n",
       "    .dataframe tbody tr th {\n",
       "        vertical-align: top;\n",
       "    }\n",
       "\n",
       "    .dataframe thead th {\n",
       "        text-align: right;\n",
       "    }\n",
       "</style>\n",
       "<table border=\"1\" class=\"dataframe\">\n",
       "  <thead>\n",
       "    <tr style=\"text-align: right;\">\n",
       "      <th></th>\n",
       "      <th>category</th>\n",
       "      <th>subcategory</th>\n",
       "      <th>count</th>\n",
       "    </tr>\n",
       "  </thead>\n",
       "  <tbody>\n",
       "    <tr>\n",
       "      <th>0</th>\n",
       "      <td>Blazers and Tailoring</td>\n",
       "      <td>Cropped Blazer</td>\n",
       "      <td>101</td>\n",
       "    </tr>\n",
       "    <tr>\n",
       "      <th>1</th>\n",
       "      <td>Blazers and Tailoring</td>\n",
       "      <td>Double-Breasted Blazer</td>\n",
       "      <td>48</td>\n",
       "    </tr>\n",
       "    <tr>\n",
       "      <th>2</th>\n",
       "      <td>Blazers and Tailoring</td>\n",
       "      <td>Single-Breasted Blazer</td>\n",
       "      <td>469</td>\n",
       "    </tr>\n",
       "    <tr>\n",
       "      <th>3</th>\n",
       "      <td>Blazers and Tailoring</td>\n",
       "      <td>Vest</td>\n",
       "      <td>7</td>\n",
       "    </tr>\n",
       "    <tr>\n",
       "      <th>4</th>\n",
       "      <td>Casual T-shirts</td>\n",
       "      <td>Henley Shirt</td>\n",
       "      <td>9</td>\n",
       "    </tr>\n",
       "    <tr>\n",
       "      <th>5</th>\n",
       "      <td>Casual T-shirts</td>\n",
       "      <td>Oversized T-Shirt</td>\n",
       "      <td>47</td>\n",
       "    </tr>\n",
       "    <tr>\n",
       "      <th>6</th>\n",
       "      <td>Casual T-shirts</td>\n",
       "      <td>Polo Shirt</td>\n",
       "      <td>107</td>\n",
       "    </tr>\n",
       "    <tr>\n",
       "      <th>7</th>\n",
       "      <td>Casual T-shirts</td>\n",
       "      <td>Regular T-Shirt</td>\n",
       "      <td>879</td>\n",
       "    </tr>\n",
       "    <tr>\n",
       "      <th>8</th>\n",
       "      <td>Casual T-shirts</td>\n",
       "      <td>Sleeveless T-Shirt</td>\n",
       "      <td>16</td>\n",
       "    </tr>\n",
       "    <tr>\n",
       "      <th>9</th>\n",
       "      <td>Casual T-shirts</td>\n",
       "      <td>Slim-Fit T-Shirt</td>\n",
       "      <td>111</td>\n",
       "    </tr>\n",
       "    <tr>\n",
       "      <th>10</th>\n",
       "      <td>Casual T-shirts</td>\n",
       "      <td>V-Neck T-Shirt</td>\n",
       "      <td>39</td>\n",
       "    </tr>\n",
       "    <tr>\n",
       "      <th>11</th>\n",
       "      <td>Knits &amp; Hoodies</td>\n",
       "      <td>Cardigan</td>\n",
       "      <td>14</td>\n",
       "    </tr>\n",
       "    <tr>\n",
       "      <th>12</th>\n",
       "      <td>Knits &amp; Hoodies</td>\n",
       "      <td>Cropped Sweatshirt</td>\n",
       "      <td>2</td>\n",
       "    </tr>\n",
       "    <tr>\n",
       "      <th>13</th>\n",
       "      <td>Knits &amp; Hoodies</td>\n",
       "      <td>Open Cowl Neck Sweater</td>\n",
       "      <td>4</td>\n",
       "    </tr>\n",
       "    <tr>\n",
       "      <th>14</th>\n",
       "      <td>Knits &amp; Hoodies</td>\n",
       "      <td>Pullover Hoodie</td>\n",
       "      <td>173</td>\n",
       "    </tr>\n",
       "    <tr>\n",
       "      <th>15</th>\n",
       "      <td>Knits &amp; Hoodies</td>\n",
       "      <td>Sweater</td>\n",
       "      <td>62</td>\n",
       "    </tr>\n",
       "    <tr>\n",
       "      <th>16</th>\n",
       "      <td>Knits &amp; Hoodies</td>\n",
       "      <td>Sweatshirt</td>\n",
       "      <td>76</td>\n",
       "    </tr>\n",
       "    <tr>\n",
       "      <th>17</th>\n",
       "      <td>Knits &amp; Hoodies</td>\n",
       "      <td>Turtleneck Sweater</td>\n",
       "      <td>17</td>\n",
       "    </tr>\n",
       "    <tr>\n",
       "      <th>18</th>\n",
       "      <td>Knits &amp; Hoodies</td>\n",
       "      <td>V-Neck Cardigan</td>\n",
       "      <td>12</td>\n",
       "    </tr>\n",
       "    <tr>\n",
       "      <th>19</th>\n",
       "      <td>Knits &amp; Hoodies</td>\n",
       "      <td>V-Neck Sweater</td>\n",
       "      <td>14</td>\n",
       "    </tr>\n",
       "    <tr>\n",
       "      <th>20</th>\n",
       "      <td>Knits &amp; Hoodies</td>\n",
       "      <td>Zip Hoodie</td>\n",
       "      <td>41</td>\n",
       "    </tr>\n",
       "    <tr>\n",
       "      <th>21</th>\n",
       "      <td>Knits &amp; Hoodies</td>\n",
       "      <td>Zipped Sweatshirt</td>\n",
       "      <td>20</td>\n",
       "    </tr>\n",
       "    <tr>\n",
       "      <th>22</th>\n",
       "      <td>Shirts &amp; Blouses</td>\n",
       "      <td>Button-Up Shirt</td>\n",
       "      <td>645</td>\n",
       "    </tr>\n",
       "    <tr>\n",
       "      <th>23</th>\n",
       "      <td>Shirts &amp; Blouses</td>\n",
       "      <td>Formal Shirt</td>\n",
       "      <td>480</td>\n",
       "    </tr>\n",
       "    <tr>\n",
       "      <th>24</th>\n",
       "      <td>Shirts &amp; Blouses</td>\n",
       "      <td>Oversized Shirt</td>\n",
       "      <td>60</td>\n",
       "    </tr>\n",
       "    <tr>\n",
       "      <th>25</th>\n",
       "      <td>Shirts &amp; Blouses</td>\n",
       "      <td>Peplum Blouse</td>\n",
       "      <td>2</td>\n",
       "    </tr>\n",
       "    <tr>\n",
       "      <th>26</th>\n",
       "      <td>Shirts &amp; Blouses</td>\n",
       "      <td>Tunic Shirt</td>\n",
       "      <td>8</td>\n",
       "    </tr>\n",
       "    <tr>\n",
       "      <th>27</th>\n",
       "      <td>Shirts &amp; Blouses</td>\n",
       "      <td>Wrap Blouse</td>\n",
       "      <td>3</td>\n",
       "    </tr>\n",
       "    <tr>\n",
       "      <th>28</th>\n",
       "      <td>Tops</td>\n",
       "      <td>Camisole</td>\n",
       "      <td>57</td>\n",
       "    </tr>\n",
       "    <tr>\n",
       "      <th>29</th>\n",
       "      <td>Tops</td>\n",
       "      <td>Cold Shoulder</td>\n",
       "      <td>1</td>\n",
       "    </tr>\n",
       "    <tr>\n",
       "      <th>30</th>\n",
       "      <td>Tops</td>\n",
       "      <td>Peplum Top</td>\n",
       "      <td>6</td>\n",
       "    </tr>\n",
       "    <tr>\n",
       "      <th>31</th>\n",
       "      <td>Tops</td>\n",
       "      <td>Shell Top</td>\n",
       "      <td>53</td>\n",
       "    </tr>\n",
       "    <tr>\n",
       "      <th>32</th>\n",
       "      <td>Tops</td>\n",
       "      <td>Tank Top</td>\n",
       "      <td>89</td>\n",
       "    </tr>\n",
       "    <tr>\n",
       "      <th>33</th>\n",
       "      <td>Tops</td>\n",
       "      <td>Tunic</td>\n",
       "      <td>9</td>\n",
       "    </tr>\n",
       "    <tr>\n",
       "      <th>34</th>\n",
       "      <td>Tops</td>\n",
       "      <td>Workout Tank</td>\n",
       "      <td>24</td>\n",
       "    </tr>\n",
       "  </tbody>\n",
       "</table>\n",
       "</div>"
      ],
      "text/plain": [
       "                 category             subcategory  count\n",
       "0   Blazers and Tailoring          Cropped Blazer    101\n",
       "1   Blazers and Tailoring  Double-Breasted Blazer     48\n",
       "2   Blazers and Tailoring  Single-Breasted Blazer    469\n",
       "3   Blazers and Tailoring                    Vest      7\n",
       "4         Casual T-shirts            Henley Shirt      9\n",
       "5         Casual T-shirts       Oversized T-Shirt     47\n",
       "6         Casual T-shirts              Polo Shirt    107\n",
       "7         Casual T-shirts         Regular T-Shirt    879\n",
       "8         Casual T-shirts      Sleeveless T-Shirt     16\n",
       "9         Casual T-shirts        Slim-Fit T-Shirt    111\n",
       "10        Casual T-shirts          V-Neck T-Shirt     39\n",
       "11        Knits & Hoodies                Cardigan     14\n",
       "12        Knits & Hoodies      Cropped Sweatshirt      2\n",
       "13        Knits & Hoodies  Open Cowl Neck Sweater      4\n",
       "14        Knits & Hoodies         Pullover Hoodie    173\n",
       "15        Knits & Hoodies                 Sweater     62\n",
       "16        Knits & Hoodies              Sweatshirt     76\n",
       "17        Knits & Hoodies      Turtleneck Sweater     17\n",
       "18        Knits & Hoodies         V-Neck Cardigan     12\n",
       "19        Knits & Hoodies          V-Neck Sweater     14\n",
       "20        Knits & Hoodies              Zip Hoodie     41\n",
       "21        Knits & Hoodies       Zipped Sweatshirt     20\n",
       "22       Shirts & Blouses         Button-Up Shirt    645\n",
       "23       Shirts & Blouses            Formal Shirt    480\n",
       "24       Shirts & Blouses         Oversized Shirt     60\n",
       "25       Shirts & Blouses           Peplum Blouse      2\n",
       "26       Shirts & Blouses             Tunic Shirt      8\n",
       "27       Shirts & Blouses             Wrap Blouse      3\n",
       "28                   Tops                Camisole     57\n",
       "29                   Tops           Cold Shoulder      1\n",
       "30                   Tops              Peplum Top      6\n",
       "31                   Tops               Shell Top     53\n",
       "32                   Tops                Tank Top     89\n",
       "33                   Tops                   Tunic      9\n",
       "34                   Tops            Workout Tank     24"
      ]
     },
     "execution_count": 95,
     "metadata": {},
     "output_type": "execute_result"
    }
   ],
   "source": [
    "# classes = subset[\"subcategory\"].unique()\n",
    "# classes\n",
    "count = subset[\"subcategory\"].value_counts()\n",
    "count\n",
    "subset.groupby([\"category\", \"subcategory\"]).size().reset_index(name=\"count\")\n"
   ]
  },
  {
   "cell_type": "code",
   "execution_count": 79,
   "id": "78f0d4fe",
   "metadata": {},
   "outputs": [],
   "source": [
    "\n",
    "import ast"
   ]
  },
  {
   "cell_type": "code",
   "execution_count": 80,
   "id": "de7fded9",
   "metadata": {},
   "outputs": [],
   "source": [
    "# image_embeddings = subset[\"embeddings\"].tolist()\n",
    "image_embeddings = subset[\"embeddings\"].apply(lambda x: np.array(ast.literal_eval(x)) if isinstance(x, str) else x).tolist()"
   ]
  },
  {
   "cell_type": "code",
   "execution_count": 81,
   "id": "9dad945f",
   "metadata": {},
   "outputs": [
    {
     "name": "stdout",
     "output_type": "stream",
     "text": [
      "               precision    recall  f1-score   support\n",
      "\n",
      "    Loose Fit       0.23      0.73      0.35        11\n",
      "Oversized Fit       0.41      0.75      0.53        44\n",
      "  Regular Fit       0.94      0.66      0.77       387\n",
      "  Relaxed Fit       0.79      0.94      0.86        63\n",
      "     Slim Fit       0.43      0.67      0.52        49\n",
      " Tailored Fit       0.82      0.90      0.86       187\n",
      "\n",
      "     accuracy                           0.75       741\n",
      "    macro avg       0.60      0.77      0.65       741\n",
      " weighted avg       0.82      0.75      0.77       741\n",
      "\n"
     ]
    }
   ],
   "source": [
    "# fit classificator\n",
    "classes = subset[\"fit\"].tolist()\n",
    "fit_X_train, fit_X_test, fit_y_train, fit_y_test = train_test_split(image_embeddings, classes, test_size=0.20, random_state=32, stratify=classes)\n",
    "fit_clf = LogisticRegression(random_state=0, class_weight=\"balanced\").fit(fit_X_train, fit_y_train)\n",
    "print(classification_report(fit_y_test, fit_clf.predict(fit_X_test)))"
   ]
  },
  {
   "cell_type": "code",
   "execution_count": 82,
   "id": "3fc33238",
   "metadata": {},
   "outputs": [
    {
     "name": "stdout",
     "output_type": "stream",
     "text": [
      "              precision    recall  f1-score   support\n",
      "\n",
      "     Cropped       0.28      0.79      0.42        24\n",
      "  Hip Length       1.00      0.87      0.93       707\n",
      "Tunic Length       0.10      0.67      0.17         3\n",
      "Waist Length       0.10      0.57      0.17         7\n",
      "\n",
      "    accuracy                           0.86       741\n",
      "   macro avg       0.37      0.72      0.42       741\n",
      "weighted avg       0.96      0.86      0.90       741\n",
      "\n"
     ]
    }
   ],
   "source": [
    "# length classificator\n",
    "classes = subset[\"length\"].tolist()\n",
    "length_X_train, length_X_test, length_y_train, length_y_test = train_test_split(image_embeddings, classes, test_size=0.20, random_state=32, stratify=classes)\n",
    "length_clf = LogisticRegression(random_state=0, class_weight=\"balanced\").fit(length_X_train, length_y_train)\n",
    "print(classification_report(length_y_test, length_clf.predict(length_X_test)))"
   ]
  },
  {
   "cell_type": "code",
   "execution_count": 83,
   "id": "20a3d837",
   "metadata": {},
   "outputs": [
    {
     "name": "stdout",
     "output_type": "stream",
     "text": [
      "              precision    recall  f1-score   support\n",
      "\n",
      "       False       0.99      0.98      0.98       360\n",
      "        True       0.98      0.99      0.99       381\n",
      "\n",
      "    accuracy                           0.99       741\n",
      "   macro avg       0.99      0.99      0.99       741\n",
      "weighted avg       0.99      0.99      0.99       741\n",
      "\n"
     ]
    }
   ],
   "source": [
    "# front_opening classificator\n",
    "classes = subset[\"front_opening\"].tolist()\n",
    "front_opening_X_train, front_opening_X_test, front_opening_y_train, front_opening_y_test = train_test_split(image_embeddings, classes, test_size=0.20, random_state=32, stratify=classes)\n",
    "front_opening_clf = LogisticRegression(random_state=0, class_weight=\"balanced\").fit(front_opening_X_train, front_opening_y_train)\n",
    "print(classification_report(front_opening_y_test, front_opening_clf.predict(front_opening_X_test)))"
   ]
  },
  {
   "cell_type": "code",
   "execution_count": 84,
   "id": "a003b8bc",
   "metadata": {},
   "outputs": [
    {
     "name": "stdout",
     "output_type": "stream",
     "text": [
      "              precision    recall  f1-score   support\n",
      "\n",
      "    Collared       0.99      0.98      0.99       260\n",
      "   Cowl Neck       0.20      1.00      0.33         1\n",
      "   Crew Neck       0.96      0.83      0.89       297\n",
      "   Mock Neck       0.27      0.88      0.41         8\n",
      "     No neck       0.87      0.93      0.90        14\n",
      "  Scoop Neck       0.76      0.93      0.83        27\n",
      "  Turtleneck       0.23      0.75      0.35         4\n",
      "      V-Neck       0.89      0.92      0.90       129\n",
      "\n",
      "    accuracy                           0.91       740\n",
      "   macro avg       0.65      0.90      0.70       740\n",
      "weighted avg       0.94      0.91      0.92       740\n",
      "\n"
     ]
    }
   ],
   "source": [
    "# neck classificator\n",
    "class_counts = subset[\"neck\"].value_counts()\n",
    "neck_subset = subset[subset[\"neck\"].isin(class_counts[class_counts >= 4].index)]\n",
    "classes = neck_subset[\"neck\"].tolist()\n",
    "neck_image_embeddings = neck_subset[\"embeddings\"].apply(lambda x: np.array(ast.literal_eval(x)) if isinstance(x, str) else x).tolist()\n",
    "\n",
    "neck_X_train, neck_X_test, neck_y_train, neck_y_test = train_test_split(neck_image_embeddings, classes, test_size=0.20, random_state=32, stratify=classes)\n",
    "neck_clf = LogisticRegression(random_state=0, class_weight=\"balanced\").fit(neck_X_train, neck_y_train)\n",
    "print(classification_report(neck_y_test, neck_clf.predict(neck_X_test)))"
   ]
  },
  {
   "cell_type": "code",
   "execution_count": 85,
   "id": "bfff0432",
   "metadata": {},
   "outputs": [
    {
     "name": "stdout",
     "output_type": "stream",
     "text": [
      "              precision    recall  f1-score   support\n",
      "\n",
      " Long Sleeve       0.98      0.98      0.98       396\n",
      "Short Sleeve       0.98      0.98      0.98       293\n",
      "  Sleeveless       0.89      0.89      0.89        38\n",
      "     Strappy       0.79      0.79      0.79        14\n",
      "\n",
      "    accuracy                           0.97       741\n",
      "   macro avg       0.91      0.91      0.91       741\n",
      "weighted avg       0.97      0.97      0.97       741\n",
      "\n"
     ]
    }
   ],
   "source": [
    "# sleeves classificator\n",
    "classes = subset[\"sleeves\"].tolist()\n",
    "sleeves_X_train, sleeves_X_test, sleeves_y_train, sleeves_y_test = train_test_split(image_embeddings, classes, test_size=0.20, random_state=32, stratify=classes)\n",
    "sleeves_clf = LogisticRegression(random_state=0, class_weight=\"balanced\").fit(sleeves_X_train, sleeves_y_train)\n",
    "print(classification_report(sleeves_y_test, sleeves_clf.predict(sleeves_X_test)))"
   ]
  },
  {
   "cell_type": "code",
   "execution_count": 86,
   "id": "ad299534",
   "metadata": {},
   "outputs": [
    {
     "name": "stdout",
     "output_type": "stream",
     "text": [
      "                   precision    recall  f1-score   support\n",
      "\n",
      "             Belt       0.00      0.00      0.00         0\n",
      "          Buttons       0.97      0.83      0.90       369\n",
      "Double-Button Row       0.15      0.78      0.25         9\n",
      "       No Buttons       0.98      0.94      0.96       342\n",
      "       Tie / Wrap       0.00      0.00      0.00         1\n",
      "           Zipper       0.36      0.90      0.51        20\n",
      "\n",
      "         accuracy                           0.88       741\n",
      "        macro avg       0.41      0.57      0.44       741\n",
      "     weighted avg       0.95      0.88      0.90       741\n",
      "\n"
     ]
    },
    {
     "name": "stderr",
     "output_type": "stream",
     "text": [
      "/home/cat/.env/tf_env/lib/python3.10/site-packages/sklearn/metrics/_classification.py:1731: UndefinedMetricWarning: Precision is ill-defined and being set to 0.0 in labels with no predicted samples. Use `zero_division` parameter to control this behavior.\n",
      "  _warn_prf(average, modifier, f\"{metric.capitalize()} is\", result.shape[0])\n",
      "/home/cat/.env/tf_env/lib/python3.10/site-packages/sklearn/metrics/_classification.py:1731: UndefinedMetricWarning: Recall is ill-defined and being set to 0.0 in labels with no true samples. Use `zero_division` parameter to control this behavior.\n",
      "  _warn_prf(average, modifier, f\"{metric.capitalize()} is\", result.shape[0])\n",
      "/home/cat/.env/tf_env/lib/python3.10/site-packages/sklearn/metrics/_classification.py:1731: UndefinedMetricWarning: Precision is ill-defined and being set to 0.0 in labels with no predicted samples. Use `zero_division` parameter to control this behavior.\n",
      "  _warn_prf(average, modifier, f\"{metric.capitalize()} is\", result.shape[0])\n",
      "/home/cat/.env/tf_env/lib/python3.10/site-packages/sklearn/metrics/_classification.py:1731: UndefinedMetricWarning: Recall is ill-defined and being set to 0.0 in labels with no true samples. Use `zero_division` parameter to control this behavior.\n",
      "  _warn_prf(average, modifier, f\"{metric.capitalize()} is\", result.shape[0])\n",
      "/home/cat/.env/tf_env/lib/python3.10/site-packages/sklearn/metrics/_classification.py:1731: UndefinedMetricWarning: Precision is ill-defined and being set to 0.0 in labels with no predicted samples. Use `zero_division` parameter to control this behavior.\n",
      "  _warn_prf(average, modifier, f\"{metric.capitalize()} is\", result.shape[0])\n",
      "/home/cat/.env/tf_env/lib/python3.10/site-packages/sklearn/metrics/_classification.py:1731: UndefinedMetricWarning: Recall is ill-defined and being set to 0.0 in labels with no true samples. Use `zero_division` parameter to control this behavior.\n",
      "  _warn_prf(average, modifier, f\"{metric.capitalize()} is\", result.shape[0])\n"
     ]
    }
   ],
   "source": [
    "# fastener classificator\n",
    "classes = subset[\"fastener\"].tolist()\n",
    "fastener_X_train, fastener_X_test, fastener_y_train, fastener_y_test = train_test_split(image_embeddings, classes, test_size=0.20, random_state=32, stratify=classes)\n",
    "fastener_clf = LogisticRegression(random_state=0, class_weight=\"balanced\").fit(fastener_X_train, fastener_y_train)\n",
    "print(classification_report(fastener_y_test, fastener_clf.predict(fastener_X_test)))"
   ]
  },
  {
   "cell_type": "code",
   "execution_count": 87,
   "id": "8a19c994",
   "metadata": {},
   "outputs": [
    {
     "name": "stdout",
     "output_type": "stream",
     "text": [
      "              precision    recall  f1-score   support\n",
      "\n",
      "  heavy knit       0.72      0.90      0.80        20\n",
      " heavy woven       0.98      0.98      0.98       125\n",
      "  light knit       0.96      0.99      0.97       276\n",
      " light woven       0.98      0.95      0.97       253\n",
      "    mid knit       0.92      0.88      0.90        67\n",
      "\n",
      "    accuracy                           0.96       741\n",
      "   macro avg       0.91      0.94      0.93       741\n",
      "weighted avg       0.96      0.96      0.96       741\n",
      "\n"
     ]
    }
   ],
   "source": [
    "# material classificator\n",
    "classes = subset[\"material\"].tolist()\n",
    "material_X_train, material_X_test, material_y_train, material_y_test = train_test_split(image_embeddings, classes, test_size=0.20, random_state=32, stratify=classes)\n",
    "material_clf = LogisticRegression(random_state=0, class_weight=\"balanced\").fit(material_X_train, material_y_train)\n",
    "print(classification_report(material_y_test, material_clf.predict(material_X_test)))"
   ]
  },
  {
   "cell_type": "code",
   "execution_count": 88,
   "id": "1fd20ce0",
   "metadata": {},
   "outputs": [
    {
     "name": "stdout",
     "output_type": "stream",
     "text": [
      "              precision    recall  f1-score   support\n",
      "\n",
      "       Laces       0.27      1.00      0.43         3\n",
      "      Peplum       0.38      1.00      0.55         3\n",
      "         nan       1.00      0.98      0.99       735\n",
      "\n",
      "    accuracy                           0.98       741\n",
      "   macro avg       0.55      0.99      0.66       741\n",
      "weighted avg       0.99      0.98      0.99       741\n",
      "\n"
     ]
    }
   ],
   "source": [
    "# design classificator\n",
    "classes = subset[\"design\"].tolist()\n",
    "design_X_train, design_X_test, design_y_train, design_y_test = train_test_split(image_embeddings, classes, test_size=0.20, random_state=32, stratify=classes)\n",
    "design_clf = LogisticRegression(random_state=0, class_weight=\"balanced\").fit(design_X_train, design_y_train)\n",
    "print(classification_report(design_y_test, design_clf.predict(design_X_test)))"
   ]
  },
  {
   "cell_type": "code",
   "execution_count": 89,
   "id": "da004a2e",
   "metadata": {},
   "outputs": [
    {
     "name": "stdout",
     "output_type": "stream",
     "text": [
      "              precision    recall  f1-score   support\n",
      "\n",
      "       False       1.00      0.99      0.99       699\n",
      "        True       0.84      1.00      0.91        42\n",
      "\n",
      "    accuracy                           0.99       741\n",
      "   macro avg       0.92      0.99      0.95       741\n",
      "weighted avg       0.99      0.99      0.99       741\n",
      "\n"
     ]
    }
   ],
   "source": [
    "# hood classificator\n",
    "classes = subset[\"hood\"].tolist()\n",
    "hood_X_train, hood_X_test, hood_y_train, hood_y_test = train_test_split(image_embeddings, classes, test_size=0.20, random_state=32, stratify=classes)\n",
    "hood_clf = LogisticRegression(random_state=0, class_weight=\"balanced\").fit(hood_X_train, hood_y_train)\n",
    "print(classification_report(hood_y_test, hood_clf.predict(hood_X_test)))"
   ]
  },
  {
   "cell_type": "code",
   "execution_count": 90,
   "id": "756e0d23",
   "metadata": {},
   "outputs": [
    {
     "name": "stdout",
     "output_type": "stream",
     "text": [
      "                        precision    recall  f1-score   support\n",
      "\n",
      "       Button-Up Shirt       0.99      0.75      0.85       129\n",
      "              Camisole       0.79      1.00      0.88        11\n",
      "              Cardigan       0.33      0.33      0.33         3\n",
      "        Cropped Blazer       0.46      0.85      0.60        20\n",
      "Double-Breasted Blazer       0.47      0.70      0.56        10\n",
      "          Formal Shirt       0.93      0.91      0.92        96\n",
      "          Henley Shirt       0.50      1.00      0.67         2\n",
      "Open Cowl Neck Sweater       1.00      1.00      1.00         1\n",
      "       Oversized Shirt       0.26      1.00      0.41        12\n",
      "     Oversized T-Shirt       0.29      0.56      0.38         9\n",
      "            Peplum Top       0.00      0.00      0.00         1\n",
      "            Polo Shirt       0.77      0.91      0.83        22\n",
      "       Pullover Hoodie       1.00      0.97      0.99        35\n",
      "       Regular T-Shirt       0.96      0.81      0.88       176\n",
      "             Shell Top       0.67      0.55      0.60        11\n",
      "Single-Breasted Blazer       0.95      0.61      0.74        94\n",
      "    Sleeveless T-Shirt       0.50      1.00      0.67         3\n",
      "      Slim-Fit T-Shirt       0.41      0.68      0.51        22\n",
      "               Sweater       0.64      0.75      0.69        12\n",
      "            Sweatshirt       0.82      0.60      0.69        15\n",
      "              Tank Top       0.83      0.83      0.83        18\n",
      "                 Tunic       0.00      0.00      0.00         2\n",
      "           Tunic Shirt       0.00      0.00      0.00         2\n",
      "    Turtleneck Sweater       0.50      0.67      0.57         3\n",
      "       V-Neck Cardigan       0.14      0.50      0.22         2\n",
      "        V-Neck Sweater       0.60      1.00      0.75         3\n",
      "        V-Neck T-Shirt       0.62      0.62      0.62         8\n",
      "                  Vest       0.33      1.00      0.50         1\n",
      "          Workout Tank       1.00      0.40      0.57         5\n",
      "            Zip Hoodie       0.89      1.00      0.94         8\n",
      "     Zipped Sweatshirt       0.80      1.00      0.89         4\n",
      "\n",
      "              accuracy                           0.78       740\n",
      "             macro avg       0.60      0.71      0.62       740\n",
      "          weighted avg       0.86      0.78      0.80       740\n",
      "\n"
     ]
    },
    {
     "name": "stderr",
     "output_type": "stream",
     "text": [
      "/home/cat/.env/tf_env/lib/python3.10/site-packages/sklearn/metrics/_classification.py:1731: UndefinedMetricWarning: Precision is ill-defined and being set to 0.0 in labels with no predicted samples. Use `zero_division` parameter to control this behavior.\n",
      "  _warn_prf(average, modifier, f\"{metric.capitalize()} is\", result.shape[0])\n",
      "/home/cat/.env/tf_env/lib/python3.10/site-packages/sklearn/metrics/_classification.py:1731: UndefinedMetricWarning: Precision is ill-defined and being set to 0.0 in labels with no predicted samples. Use `zero_division` parameter to control this behavior.\n",
      "  _warn_prf(average, modifier, f\"{metric.capitalize()} is\", result.shape[0])\n",
      "/home/cat/.env/tf_env/lib/python3.10/site-packages/sklearn/metrics/_classification.py:1731: UndefinedMetricWarning: Precision is ill-defined and being set to 0.0 in labels with no predicted samples. Use `zero_division` parameter to control this behavior.\n",
      "  _warn_prf(average, modifier, f\"{metric.capitalize()} is\", result.shape[0])\n"
     ]
    }
   ],
   "source": [
    "# fit classificator\n",
    "class_counts = subset[\"subcategory\"].value_counts()\n",
    "subcategory_subset = subset[subset[\"subcategory\"].isin(class_counts[class_counts >= 4].index)]\n",
    "classes = subcategory_subset[\"subcategory\"].tolist()\n",
    "subcategory_image_embeddings = subcategory_subset[\"embeddings\"].apply(lambda x: np.array(ast.literal_eval(x)) if isinstance(x, str) else x).tolist()\n",
    "\n",
    "subcategory_X_train, subcategory_X_test, subcategory_y_train, subcategory_y_test = train_test_split(subcategory_image_embeddings, classes, test_size=0.20, random_state=32, stratify=classes)\n",
    "subcategory_clf = LogisticRegression(random_state=0, class_weight=\"balanced\").fit(subcategory_X_train, subcategory_y_train)\n",
    "print(classification_report(subcategory_y_test, subcategory_clf.predict(subcategory_X_test)))"
   ]
  },
  {
   "cell_type": "code",
   "execution_count": 91,
   "id": "5620b8ab",
   "metadata": {},
   "outputs": [
    {
     "data": {
      "text/plain": [
       "['model_subcategory_clf.joblib']"
      ]
     },
     "execution_count": 91,
     "metadata": {},
     "output_type": "execute_result"
    }
   ],
   "source": [
    "import joblib\n",
    "joblib.dump(design_clf, 'model_design_clf.joblib')\n",
    "joblib.dump(material_clf, 'model_material_clf.joblib')\n",
    "joblib.dump(fastener_clf, 'model_fastener_clf.joblib')\n",
    "joblib.dump(sleeves_clf, 'model_sleeves_clf.joblib')\n",
    "joblib.dump(neck_clf, 'model_neck_clf.joblib')\n",
    "joblib.dump(front_opening_clf, 'model_front_opening_clf.joblib')\n",
    "joblib.dump(length_clf, 'model_length_clf.joblib')\n",
    "joblib.dump(fit_clf, 'model_fit_clf.joblib')\n",
    "joblib.dump(hood_clf, 'model_hood_clf.joblib')\n",
    "joblib.dump(subcategory_clf, 'model_subcategory_clf.joblib')"
   ]
  }
 ],
 "metadata": {
  "kernelspec": {
   "display_name": "tf_env (3.10.12)",
   "language": "python",
   "name": "python3"
  },
  "language_info": {
   "codemirror_mode": {
    "name": "ipython",
    "version": 3
   },
   "file_extension": ".py",
   "mimetype": "text/x-python",
   "name": "python",
   "nbconvert_exporter": "python",
   "pygments_lexer": "ipython3",
   "version": "3.10.12"
  }
 },
 "nbformat": 4,
 "nbformat_minor": 5
}
