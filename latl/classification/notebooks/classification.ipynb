{
 "cells": [
  {
   "cell_type": "code",
   "execution_count": 1,
   "id": "32bf6f2a",
   "metadata": {},
   "outputs": [
    {
     "name": "stderr",
     "output_type": "stream",
     "text": [
      "2025-08-08 12:31:21.012134: I tensorflow/core/util/port.cc:113] oneDNN custom operations are on. You may see slightly different numerical results due to floating-point round-off errors from different computation orders. To turn them off, set the environment variable `TF_ENABLE_ONEDNN_OPTS=0`.\n",
      "2025-08-08 12:31:21.964711: I tensorflow/core/platform/cpu_feature_guard.cc:210] This TensorFlow binary is optimized to use available CPU instructions in performance-critical operations.\n",
      "To enable the following instructions: AVX2 AVX_VNNI FMA, in other operations, rebuild TensorFlow with the appropriate compiler flags.\n",
      "2025-08-08 12:31:28.403133: W tensorflow/compiler/tf2tensorrt/utils/py_utils.cc:38] TF-TRT Warning: Could not find TensorRT\n"
     ]
    }
   ],
   "source": [
    "import numpy as np\n",
    "import pandas as pd\n",
    "from pathlib import Path\n",
    "import os.path\n",
    "import tensorflow as tf\n",
    "import keras\n",
    "from sklearn.model_selection import train_test_split\n",
    "from sklearn.preprocessing import LabelEncoder\n",
    "from PIL import Image\n",
    "from sklearn.metrics import classification_report, confusion_matrix"
   ]
  },
  {
   "cell_type": "code",
   "execution_count": 2,
   "id": "9140cabe",
   "metadata": {},
   "outputs": [
    {
     "name": "stdout",
     "output_type": "stream",
     "text": [
      "3705\n"
     ]
    },
    {
     "data": {
      "text/plain": [
       "category            5\n",
       "subcategory        35\n",
       "img              3507\n",
       "fit                 6\n",
       "length              4\n",
       "front_opening       2\n",
       "neck               11\n",
       "sleeves             4\n",
       "hood                2\n",
       "fastener            6\n",
       "material            5\n",
       "design              3\n",
       "embeddings       3705\n",
       "dtype: int64"
      ]
     },
     "execution_count": 2,
     "metadata": {},
     "output_type": "execute_result"
    }
   ],
   "source": [
    "saved_df = pd.read_csv(\"fashion-clip.csv\")\n",
    "print(len(saved_df))\n",
    "saved_df.nunique()"
   ]
  },
  {
   "cell_type": "code",
   "execution_count": 3,
   "id": "4cdaaacf",
   "metadata": {},
   "outputs": [],
   "source": [
    "column_names = ['category',\n",
    " 'subcategory',\n",
    " 'fit',\n",
    " 'length',\n",
    " 'front_opening',\n",
    " 'neck',\n",
    " 'sleeves',\n",
    " 'hood',\n",
    " 'fastener',\n",
    " 'material',\n",
    " 'design']"
   ]
  },
  {
   "cell_type": "code",
   "execution_count": 4,
   "id": "400ab0e9",
   "metadata": {},
   "outputs": [],
   "source": [
    "saved_df[\"img\"] = saved_df[\"category\"] + \"/\" + saved_df[\"img\"]"
   ]
  },
  {
   "cell_type": "code",
   "execution_count": null,
   "id": "f88b9301",
   "metadata": {},
   "outputs": [],
   "source": [
    "# Dictionary to store encoders for later decoding or inference use\n",
    "# encode to integers \n",
    "label_encoders = {}\n",
    "for col in column_names:\n",
    "    le = LabelEncoder()\n",
    "    saved_df[col] = le.fit_transform(saved_df[col].astype(str))\n",
    "    label_encoders[col] = le"
   ]
  },
  {
   "cell_type": "code",
   "execution_count": 14,
   "id": "1ca97f0f",
   "metadata": {},
   "outputs": [
    {
     "name": "stdout",
     "output_type": "stream",
     "text": [
      "\" category \" : ['Blazers and Tailoring' 'Casual T-shirts' 'Knits & Hoodies'\n",
      " 'Shirts & Blouses' 'Tops'] ,\n",
      "\" subcategory \" : ['Button-Up Shirt' 'Camisole' 'Cardigan' 'Cold Shoulder' 'Cropped Blazer'\n",
      " 'Cropped Sweatshirt' 'Double-Breasted Blazer' 'Formal Shirt'\n",
      " 'Henley Shirt' 'Open Cowl Neck Sweater' 'Oversized Shirt'\n",
      " 'Oversized T-Shirt' 'Peplum Blouse' 'Peplum Top' 'Polo Shirt'\n",
      " 'Pullover Hoodie' 'Regular T-Shirt' 'Shell Top' 'Single-Breasted Blazer'\n",
      " 'Sleeveless T-Shirt' 'Slim-Fit T-Shirt' 'Sweater' 'Sweatshirt' 'Tank Top'\n",
      " 'Tunic' 'Tunic Shirt' 'Turtleneck Sweater' 'V-Neck Cardigan'\n",
      " 'V-Neck Sweater' 'V-Neck T-Shirt' 'Vest' 'Workout Tank' 'Wrap Blouse'\n",
      " 'Zip Hoodie' 'Zipped Sweatshirt'] ,\n",
      "\" fit \" : ['Loose Fit' 'Oversized Fit' 'Regular Fit' 'Relaxed Fit' 'Slim Fit'\n",
      " 'Tailored Fit'] ,\n",
      "\" length \" : ['Cropped' 'Hip Length' 'Tunic Length' 'Waist Length'] ,\n",
      "\" front_opening \" : ['False' 'True'] ,\n",
      "\" neck \" : ['Boat Neck' 'Collared' 'Cowl Neck' 'Crew Neck' 'Mock Neck' 'No neck'\n",
      " 'Off-the-Shoulder' 'Scoop Neck' 'Square Neck' 'Turtleneck' 'V-Neck'] ,\n",
      "\" sleeves \" : ['Long Sleeve' 'Short Sleeve' 'Sleeveless' 'Strappy'] ,\n",
      "\" hood \" : ['False' 'True'] ,\n",
      "\" fastener \" : ['Belt' 'Buttons' 'Double-Button Row' 'No Buttons' 'Tie / Wrap' 'Zipper'] ,\n",
      "\" material \" : ['heavy knit' 'heavy woven' 'light knit' 'light woven' 'mid knit'] ,\n",
      "\" design \" : ['Laces' 'Peplum' 'no design'] ,\n"
     ]
    }
   ],
   "source": [
    "for enc in label_encoders:\n",
    "    print('\"',enc,'\"', \":\",label_encoders[enc].classes_, \",\")"
   ]
  },
  {
   "cell_type": "code",
   "execution_count": 47,
   "id": "eafe7758",
   "metadata": {},
   "outputs": [],
   "source": [
    "# !!!!!!!!!! GLOBAL PARAMS !!!!!!!!!!!!!!!!\n",
    "\n",
    "# EfficientNetV2B0 - 22.58 MB\n",
    "# NASNetMobile - 16.29 MB\n",
    "# EfficientNetB0 - 15 MB\n",
    "# MobileNetV2 - 8.61 MB\n",
    "# MobileViT - 4.9 MB - Their findings suggest that, performance-wise, MobileViT is better than other models with the same or higher complexity (MobileNetV3, for example), while being efficient on mobile devices.\n",
    "# MobileNetV3Small - 3.58 MB\n",
    "model_name =\"MobileNetV3Small\"\n",
    "input_size = 224\n",
    "input_Vit_size = 256\n",
    "data_path = \"/home/cat/projects/CV-stuff/datasets/multilabel_fashion_dataset/upperwear/\""
   ]
  },
  {
   "cell_type": "code",
   "execution_count": null,
   "id": "88dfcbd3",
   "metadata": {},
   "outputs": [],
   "source": [
    "\n",
    "def make_dataset(images_path, df, label_cols, batch_size=32, shuffle=True, model=model_name, in_size=input_size, in_vit_size=input_Vit_size):\n",
    "    # Don't convert to NumPy!\n",
    "    path_ds = tf.data.Dataset.from_tensor_slices(df[\"img\"].astype(str))\n",
    "    label_ds = tf.data.Dataset.from_tensor_slices(\n",
    "        {col: df[col].astype(\"int32\") for col in label_cols}  # dictionary for structured output\n",
    "    )\n",
    "\n",
    "    # Zip paths and labels\n",
    "    ds = tf.data.Dataset.zip((path_ds, label_ds))\n",
    "\n",
    "    # Load and preprocess lazily\n",
    "    def process(path, label_dict):\n",
    "        filepath = tf.strings.join([images_path, path])\n",
    "        image = tf.io.read_file(filepath)\n",
    "        image = tf.image.decode_jpeg(image, channels=3)\n",
    "        match model:\n",
    "            case \"MobileNetV2\":                \n",
    "                image = tf.image.resize(image, (in_size, in_size))\n",
    "                image = keras.applications.mobilenet_v2.preprocess_input(image)\n",
    "            case \"MobileViT\":\n",
    "                image = tf.image.resize(image, (in_vit_size, in_vit_size))\n",
    "            case _:\n",
    "                # expect their inputs to be float tensors of pixels with values in the [0-255] range\n",
    "                # A floating point numpy.array or backend-native tensor, 4D with 3 color channels, with values in the range [0, 255]\n",
    "                image = tf.image.resize(image, (in_size, in_size))\n",
    "        return image, label_dict\n",
    "\n",
    "    ds = ds.map(process, num_parallel_calls=tf.data.AUTOTUNE)\n",
    "\n",
    "    if shuffle:\n",
    "        ds = ds.shuffle(buffer_size=len(df), seed=42)\n",
    "\n",
    "    ds = ds.batch(batch_size).prefetch(tf.data.AUTOTUNE)\n",
    "    return ds\n"
   ]
  },
  {
   "cell_type": "code",
   "execution_count": 49,
   "id": "131f02b4",
   "metadata": {},
   "outputs": [],
   "source": [
    "train_df, test_df = train_test_split(saved_df, train_size=0.9, shuffle=True, random_state=1)\n",
    "train_df, val_df = train_test_split(train_df, test_size=0.2, shuffle=True, random_state=1)"
   ]
  },
  {
   "cell_type": "code",
   "execution_count": 50,
   "id": "038cbd31",
   "metadata": {},
   "outputs": [
    {
     "name": "stdout",
     "output_type": "stream",
     "text": [
      "WARNING:tensorflow:AutoGraph could not transform <function make_dataset.<locals>.process at 0x712380334310> and will run it as-is.\n",
      "Please report this to the TensorFlow team. When filing the bug, set the verbosity to 10 (on Linux, `export AUTOGRAPH_VERBOSITY=10`) and attach the full output.\n",
      "Cause: name node, model, outside of any statement?\n",
      "To silence this warning, decorate the function with @tf.autograph.experimental.do_not_convert\n",
      "WARNING: AutoGraph could not transform <function make_dataset.<locals>.process at 0x712380334310> and will run it as-is.\n",
      "Please report this to the TensorFlow team. When filing the bug, set the verbosity to 10 (on Linux, `export AUTOGRAPH_VERBOSITY=10`) and attach the full output.\n",
      "Cause: name node, model, outside of any statement?\n",
      "To silence this warning, decorate the function with @tf.autograph.experimental.do_not_convert\n",
      "WARNING:tensorflow:AutoGraph could not transform <function make_dataset.<locals>.process at 0x712338647b50> and will run it as-is.\n",
      "Please report this to the TensorFlow team. When filing the bug, set the verbosity to 10 (on Linux, `export AUTOGRAPH_VERBOSITY=10`) and attach the full output.\n",
      "Cause: name node, model, outside of any statement?\n",
      "To silence this warning, decorate the function with @tf.autograph.experimental.do_not_convert\n",
      "WARNING: AutoGraph could not transform <function make_dataset.<locals>.process at 0x712338647b50> and will run it as-is.\n",
      "Please report this to the TensorFlow team. When filing the bug, set the verbosity to 10 (on Linux, `export AUTOGRAPH_VERBOSITY=10`) and attach the full output.\n",
      "Cause: name node, model, outside of any statement?\n",
      "To silence this warning, decorate the function with @tf.autograph.experimental.do_not_convert\n",
      "WARNING:tensorflow:AutoGraph could not transform <function make_dataset.<locals>.process at 0x7122243afeb0> and will run it as-is.\n",
      "Please report this to the TensorFlow team. When filing the bug, set the verbosity to 10 (on Linux, `export AUTOGRAPH_VERBOSITY=10`) and attach the full output.\n",
      "Cause: name node, model, outside of any statement?\n",
      "To silence this warning, decorate the function with @tf.autograph.experimental.do_not_convert\n",
      "WARNING: AutoGraph could not transform <function make_dataset.<locals>.process at 0x7122243afeb0> and will run it as-is.\n",
      "Please report this to the TensorFlow team. When filing the bug, set the verbosity to 10 (on Linux, `export AUTOGRAPH_VERBOSITY=10`) and attach the full output.\n",
      "Cause: name node, model, outside of any statement?\n",
      "To silence this warning, decorate the function with @tf.autograph.experimental.do_not_convert\n"
     ]
    }
   ],
   "source": [
    "train_ds = make_dataset(data_path, train_df, column_names, batch_size=32, shuffle=True)\n",
    "val_ds = make_dataset(data_path, val_df, column_names, batch_size=32, shuffle=False)\n",
    "test_ds = make_dataset(data_path, test_df, column_names, batch_size=32, shuffle=False)"
   ]
  },
  {
   "cell_type": "code",
   "execution_count": 51,
   "id": "b584fbc4",
   "metadata": {},
   "outputs": [
    {
     "name": "stdout",
     "output_type": "stream",
     "text": [
      "84\n",
      "21\n",
      "12\n",
      "Images shape: (32, 224, 224, 3)\n",
      "Labels keys: dict_keys(['category', 'subcategory', 'fit', 'length', 'front_opening', 'neck', 'sleeves', 'hood', 'fastener', 'material', 'design'])\n",
      "Images shape: (32, 224, 224, 3)\n",
      "Labels keys: dict_keys(['category', 'subcategory', 'fit', 'length', 'front_opening', 'neck', 'sleeves', 'hood', 'fastener', 'material', 'design'])\n",
      "Images shape: (32, 224, 224, 3)\n",
      "Labels keys: dict_keys(['category', 'subcategory', 'fit', 'length', 'front_opening', 'neck', 'sleeves', 'hood', 'fastener', 'material', 'design'])\n",
      "Images shape: (32, 224, 224, 3)\n",
      "Labels keys: dict_keys(['category', 'subcategory', 'fit', 'length', 'front_opening', 'neck', 'sleeves', 'hood', 'fastener', 'material', 'design'])\n",
      "Images shape: (32, 224, 224, 3)\n",
      "Labels keys: dict_keys(['category', 'subcategory', 'fit', 'length', 'front_opening', 'neck', 'sleeves', 'hood', 'fastener', 'material', 'design'])\n",
      "Images shape: (32, 224, 224, 3)\n",
      "Labels keys: dict_keys(['category', 'subcategory', 'fit', 'length', 'front_opening', 'neck', 'sleeves', 'hood', 'fastener', 'material', 'design'])\n",
      "Images shape: (32, 224, 224, 3)\n",
      "Labels keys: dict_keys(['category', 'subcategory', 'fit', 'length', 'front_opening', 'neck', 'sleeves', 'hood', 'fastener', 'material', 'design'])\n",
      "Images shape: (32, 224, 224, 3)\n",
      "Labels keys: dict_keys(['category', 'subcategory', 'fit', 'length', 'front_opening', 'neck', 'sleeves', 'hood', 'fastener', 'material', 'design'])\n",
      "Images shape: (32, 224, 224, 3)\n",
      "Labels keys: dict_keys(['category', 'subcategory', 'fit', 'length', 'front_opening', 'neck', 'sleeves', 'hood', 'fastener', 'material', 'design'])\n",
      "Images shape: (32, 224, 224, 3)\n",
      "Labels keys: dict_keys(['category', 'subcategory', 'fit', 'length', 'front_opening', 'neck', 'sleeves', 'hood', 'fastener', 'material', 'design'])\n",
      "Images shape: (32, 224, 224, 3)\n",
      "Labels keys: dict_keys(['category', 'subcategory', 'fit', 'length', 'front_opening', 'neck', 'sleeves', 'hood', 'fastener', 'material', 'design'])\n",
      "Images shape: (32, 224, 224, 3)\n",
      "Labels keys: dict_keys(['category', 'subcategory', 'fit', 'length', 'front_opening', 'neck', 'sleeves', 'hood', 'fastener', 'material', 'design'])\n",
      "Images shape: (32, 224, 224, 3)\n",
      "Labels keys: dict_keys(['category', 'subcategory', 'fit', 'length', 'front_opening', 'neck', 'sleeves', 'hood', 'fastener', 'material', 'design'])\n",
      "Images shape: (32, 224, 224, 3)\n",
      "Labels keys: dict_keys(['category', 'subcategory', 'fit', 'length', 'front_opening', 'neck', 'sleeves', 'hood', 'fastener', 'material', 'design'])\n",
      "Images shape: (32, 224, 224, 3)\n",
      "Labels keys: dict_keys(['category', 'subcategory', 'fit', 'length', 'front_opening', 'neck', 'sleeves', 'hood', 'fastener', 'material', 'design'])\n",
      "Images shape: (32, 224, 224, 3)\n",
      "Labels keys: dict_keys(['category', 'subcategory', 'fit', 'length', 'front_opening', 'neck', 'sleeves', 'hood', 'fastener', 'material', 'design'])\n",
      "Images shape: (32, 224, 224, 3)\n",
      "Labels keys: dict_keys(['category', 'subcategory', 'fit', 'length', 'front_opening', 'neck', 'sleeves', 'hood', 'fastener', 'material', 'design'])\n",
      "Images shape: (32, 224, 224, 3)\n",
      "Labels keys: dict_keys(['category', 'subcategory', 'fit', 'length', 'front_opening', 'neck', 'sleeves', 'hood', 'fastener', 'material', 'design'])\n",
      "Images shape: (32, 224, 224, 3)\n",
      "Labels keys: dict_keys(['category', 'subcategory', 'fit', 'length', 'front_opening', 'neck', 'sleeves', 'hood', 'fastener', 'material', 'design'])\n",
      "Images shape: (32, 224, 224, 3)\n",
      "Labels keys: dict_keys(['category', 'subcategory', 'fit', 'length', 'front_opening', 'neck', 'sleeves', 'hood', 'fastener', 'material', 'design'])\n",
      "Images shape: (32, 224, 224, 3)\n",
      "Labels keys: dict_keys(['category', 'subcategory', 'fit', 'length', 'front_opening', 'neck', 'sleeves', 'hood', 'fastener', 'material', 'design'])\n",
      "Images shape: (32, 224, 224, 3)\n",
      "Labels keys: dict_keys(['category', 'subcategory', 'fit', 'length', 'front_opening', 'neck', 'sleeves', 'hood', 'fastener', 'material', 'design'])\n",
      "Images shape: (32, 224, 224, 3)\n",
      "Labels keys: dict_keys(['category', 'subcategory', 'fit', 'length', 'front_opening', 'neck', 'sleeves', 'hood', 'fastener', 'material', 'design'])\n",
      "Images shape: (32, 224, 224, 3)\n",
      "Labels keys: dict_keys(['category', 'subcategory', 'fit', 'length', 'front_opening', 'neck', 'sleeves', 'hood', 'fastener', 'material', 'design'])\n",
      "Images shape: (32, 224, 224, 3)\n",
      "Labels keys: dict_keys(['category', 'subcategory', 'fit', 'length', 'front_opening', 'neck', 'sleeves', 'hood', 'fastener', 'material', 'design'])\n",
      "Images shape: (32, 224, 224, 3)\n",
      "Labels keys: dict_keys(['category', 'subcategory', 'fit', 'length', 'front_opening', 'neck', 'sleeves', 'hood', 'fastener', 'material', 'design'])\n",
      "Images shape: (32, 224, 224, 3)\n",
      "Labels keys: dict_keys(['category', 'subcategory', 'fit', 'length', 'front_opening', 'neck', 'sleeves', 'hood', 'fastener', 'material', 'design'])\n",
      "Images shape: (32, 224, 224, 3)\n",
      "Labels keys: dict_keys(['category', 'subcategory', 'fit', 'length', 'front_opening', 'neck', 'sleeves', 'hood', 'fastener', 'material', 'design'])\n",
      "Images shape: (32, 224, 224, 3)\n",
      "Labels keys: dict_keys(['category', 'subcategory', 'fit', 'length', 'front_opening', 'neck', 'sleeves', 'hood', 'fastener', 'material', 'design'])\n",
      "Images shape: (32, 224, 224, 3)\n",
      "Labels keys: dict_keys(['category', 'subcategory', 'fit', 'length', 'front_opening', 'neck', 'sleeves', 'hood', 'fastener', 'material', 'design'])\n",
      "Images shape: (32, 224, 224, 3)\n",
      "Labels keys: dict_keys(['category', 'subcategory', 'fit', 'length', 'front_opening', 'neck', 'sleeves', 'hood', 'fastener', 'material', 'design'])\n",
      "Images shape: (32, 224, 224, 3)\n",
      "Labels keys: dict_keys(['category', 'subcategory', 'fit', 'length', 'front_opening', 'neck', 'sleeves', 'hood', 'fastener', 'material', 'design'])\n",
      "Images shape: (32, 224, 224, 3)\n",
      "Labels keys: dict_keys(['category', 'subcategory', 'fit', 'length', 'front_opening', 'neck', 'sleeves', 'hood', 'fastener', 'material', 'design'])\n",
      "Images shape: (32, 224, 224, 3)\n",
      "Labels keys: dict_keys(['category', 'subcategory', 'fit', 'length', 'front_opening', 'neck', 'sleeves', 'hood', 'fastener', 'material', 'design'])\n",
      "Images shape: (32, 224, 224, 3)\n",
      "Labels keys: dict_keys(['category', 'subcategory', 'fit', 'length', 'front_opening', 'neck', 'sleeves', 'hood', 'fastener', 'material', 'design'])\n",
      "Images shape: (32, 224, 224, 3)\n",
      "Labels keys: dict_keys(['category', 'subcategory', 'fit', 'length', 'front_opening', 'neck', 'sleeves', 'hood', 'fastener', 'material', 'design'])\n",
      "Images shape: (32, 224, 224, 3)\n",
      "Labels keys: dict_keys(['category', 'subcategory', 'fit', 'length', 'front_opening', 'neck', 'sleeves', 'hood', 'fastener', 'material', 'design'])\n",
      "Images shape: (32, 224, 224, 3)\n",
      "Labels keys: dict_keys(['category', 'subcategory', 'fit', 'length', 'front_opening', 'neck', 'sleeves', 'hood', 'fastener', 'material', 'design'])\n",
      "Images shape: (32, 224, 224, 3)\n",
      "Labels keys: dict_keys(['category', 'subcategory', 'fit', 'length', 'front_opening', 'neck', 'sleeves', 'hood', 'fastener', 'material', 'design'])\n",
      "Images shape: (32, 224, 224, 3)\n",
      "Labels keys: dict_keys(['category', 'subcategory', 'fit', 'length', 'front_opening', 'neck', 'sleeves', 'hood', 'fastener', 'material', 'design'])\n",
      "Images shape: (32, 224, 224, 3)\n",
      "Labels keys: dict_keys(['category', 'subcategory', 'fit', 'length', 'front_opening', 'neck', 'sleeves', 'hood', 'fastener', 'material', 'design'])\n",
      "Images shape: (32, 224, 224, 3)\n",
      "Labels keys: dict_keys(['category', 'subcategory', 'fit', 'length', 'front_opening', 'neck', 'sleeves', 'hood', 'fastener', 'material', 'design'])\n",
      "Images shape: (32, 224, 224, 3)\n",
      "Labels keys: dict_keys(['category', 'subcategory', 'fit', 'length', 'front_opening', 'neck', 'sleeves', 'hood', 'fastener', 'material', 'design'])\n",
      "Images shape: (32, 224, 224, 3)\n",
      "Labels keys: dict_keys(['category', 'subcategory', 'fit', 'length', 'front_opening', 'neck', 'sleeves', 'hood', 'fastener', 'material', 'design'])\n",
      "Images shape: (32, 224, 224, 3)\n",
      "Labels keys: dict_keys(['category', 'subcategory', 'fit', 'length', 'front_opening', 'neck', 'sleeves', 'hood', 'fastener', 'material', 'design'])\n",
      "Images shape: (32, 224, 224, 3)\n",
      "Labels keys: dict_keys(['category', 'subcategory', 'fit', 'length', 'front_opening', 'neck', 'sleeves', 'hood', 'fastener', 'material', 'design'])\n",
      "Images shape: (32, 224, 224, 3)\n",
      "Labels keys: dict_keys(['category', 'subcategory', 'fit', 'length', 'front_opening', 'neck', 'sleeves', 'hood', 'fastener', 'material', 'design'])\n",
      "Images shape: (32, 224, 224, 3)\n",
      "Labels keys: dict_keys(['category', 'subcategory', 'fit', 'length', 'front_opening', 'neck', 'sleeves', 'hood', 'fastener', 'material', 'design'])\n",
      "Images shape: (32, 224, 224, 3)\n",
      "Labels keys: dict_keys(['category', 'subcategory', 'fit', 'length', 'front_opening', 'neck', 'sleeves', 'hood', 'fastener', 'material', 'design'])\n",
      "Images shape: (32, 224, 224, 3)\n",
      "Labels keys: dict_keys(['category', 'subcategory', 'fit', 'length', 'front_opening', 'neck', 'sleeves', 'hood', 'fastener', 'material', 'design'])\n",
      "Images shape: (32, 224, 224, 3)\n",
      "Labels keys: dict_keys(['category', 'subcategory', 'fit', 'length', 'front_opening', 'neck', 'sleeves', 'hood', 'fastener', 'material', 'design'])\n",
      "Images shape: (32, 224, 224, 3)\n",
      "Labels keys: dict_keys(['category', 'subcategory', 'fit', 'length', 'front_opening', 'neck', 'sleeves', 'hood', 'fastener', 'material', 'design'])\n",
      "Images shape: (32, 224, 224, 3)\n",
      "Labels keys: dict_keys(['category', 'subcategory', 'fit', 'length', 'front_opening', 'neck', 'sleeves', 'hood', 'fastener', 'material', 'design'])\n",
      "Images shape: (32, 224, 224, 3)\n",
      "Labels keys: dict_keys(['category', 'subcategory', 'fit', 'length', 'front_opening', 'neck', 'sleeves', 'hood', 'fastener', 'material', 'design'])\n",
      "Images shape: (32, 224, 224, 3)\n",
      "Labels keys: dict_keys(['category', 'subcategory', 'fit', 'length', 'front_opening', 'neck', 'sleeves', 'hood', 'fastener', 'material', 'design'])\n",
      "Images shape: (32, 224, 224, 3)\n",
      "Labels keys: dict_keys(['category', 'subcategory', 'fit', 'length', 'front_opening', 'neck', 'sleeves', 'hood', 'fastener', 'material', 'design'])\n",
      "Images shape: (32, 224, 224, 3)\n",
      "Labels keys: dict_keys(['category', 'subcategory', 'fit', 'length', 'front_opening', 'neck', 'sleeves', 'hood', 'fastener', 'material', 'design'])\n",
      "Images shape: (32, 224, 224, 3)\n",
      "Labels keys: dict_keys(['category', 'subcategory', 'fit', 'length', 'front_opening', 'neck', 'sleeves', 'hood', 'fastener', 'material', 'design'])\n",
      "Images shape: (32, 224, 224, 3)\n",
      "Labels keys: dict_keys(['category', 'subcategory', 'fit', 'length', 'front_opening', 'neck', 'sleeves', 'hood', 'fastener', 'material', 'design'])\n",
      "Images shape: (32, 224, 224, 3)\n",
      "Labels keys: dict_keys(['category', 'subcategory', 'fit', 'length', 'front_opening', 'neck', 'sleeves', 'hood', 'fastener', 'material', 'design'])\n",
      "Images shape: (32, 224, 224, 3)\n",
      "Labels keys: dict_keys(['category', 'subcategory', 'fit', 'length', 'front_opening', 'neck', 'sleeves', 'hood', 'fastener', 'material', 'design'])\n",
      "Images shape: (32, 224, 224, 3)\n",
      "Labels keys: dict_keys(['category', 'subcategory', 'fit', 'length', 'front_opening', 'neck', 'sleeves', 'hood', 'fastener', 'material', 'design'])\n",
      "Images shape: (32, 224, 224, 3)\n",
      "Labels keys: dict_keys(['category', 'subcategory', 'fit', 'length', 'front_opening', 'neck', 'sleeves', 'hood', 'fastener', 'material', 'design'])\n",
      "Images shape: (32, 224, 224, 3)\n",
      "Labels keys: dict_keys(['category', 'subcategory', 'fit', 'length', 'front_opening', 'neck', 'sleeves', 'hood', 'fastener', 'material', 'design'])\n",
      "Images shape: (32, 224, 224, 3)\n",
      "Labels keys: dict_keys(['category', 'subcategory', 'fit', 'length', 'front_opening', 'neck', 'sleeves', 'hood', 'fastener', 'material', 'design'])\n",
      "Images shape: (32, 224, 224, 3)\n",
      "Labels keys: dict_keys(['category', 'subcategory', 'fit', 'length', 'front_opening', 'neck', 'sleeves', 'hood', 'fastener', 'material', 'design'])\n",
      "Images shape: (32, 224, 224, 3)\n",
      "Labels keys: dict_keys(['category', 'subcategory', 'fit', 'length', 'front_opening', 'neck', 'sleeves', 'hood', 'fastener', 'material', 'design'])\n",
      "Images shape: (32, 224, 224, 3)\n",
      "Labels keys: dict_keys(['category', 'subcategory', 'fit', 'length', 'front_opening', 'neck', 'sleeves', 'hood', 'fastener', 'material', 'design'])\n",
      "Images shape: (32, 224, 224, 3)\n",
      "Labels keys: dict_keys(['category', 'subcategory', 'fit', 'length', 'front_opening', 'neck', 'sleeves', 'hood', 'fastener', 'material', 'design'])\n",
      "Images shape: (32, 224, 224, 3)\n",
      "Labels keys: dict_keys(['category', 'subcategory', 'fit', 'length', 'front_opening', 'neck', 'sleeves', 'hood', 'fastener', 'material', 'design'])\n",
      "Images shape: (32, 224, 224, 3)\n",
      "Labels keys: dict_keys(['category', 'subcategory', 'fit', 'length', 'front_opening', 'neck', 'sleeves', 'hood', 'fastener', 'material', 'design'])\n",
      "Images shape: (32, 224, 224, 3)\n",
      "Labels keys: dict_keys(['category', 'subcategory', 'fit', 'length', 'front_opening', 'neck', 'sleeves', 'hood', 'fastener', 'material', 'design'])\n",
      "Images shape: (32, 224, 224, 3)\n",
      "Labels keys: dict_keys(['category', 'subcategory', 'fit', 'length', 'front_opening', 'neck', 'sleeves', 'hood', 'fastener', 'material', 'design'])\n",
      "Images shape: (32, 224, 224, 3)\n",
      "Labels keys: dict_keys(['category', 'subcategory', 'fit', 'length', 'front_opening', 'neck', 'sleeves', 'hood', 'fastener', 'material', 'design'])\n",
      "Images shape: (32, 224, 224, 3)\n",
      "Labels keys: dict_keys(['category', 'subcategory', 'fit', 'length', 'front_opening', 'neck', 'sleeves', 'hood', 'fastener', 'material', 'design'])\n",
      "Images shape: (32, 224, 224, 3)\n",
      "Labels keys: dict_keys(['category', 'subcategory', 'fit', 'length', 'front_opening', 'neck', 'sleeves', 'hood', 'fastener', 'material', 'design'])\n",
      "Images shape: (32, 224, 224, 3)\n",
      "Labels keys: dict_keys(['category', 'subcategory', 'fit', 'length', 'front_opening', 'neck', 'sleeves', 'hood', 'fastener', 'material', 'design'])\n",
      "Images shape: (32, 224, 224, 3)\n",
      "Labels keys: dict_keys(['category', 'subcategory', 'fit', 'length', 'front_opening', 'neck', 'sleeves', 'hood', 'fastener', 'material', 'design'])\n",
      "Images shape: (32, 224, 224, 3)\n",
      "Labels keys: dict_keys(['category', 'subcategory', 'fit', 'length', 'front_opening', 'neck', 'sleeves', 'hood', 'fastener', 'material', 'design'])\n",
      "Images shape: (32, 224, 224, 3)\n",
      "Labels keys: dict_keys(['category', 'subcategory', 'fit', 'length', 'front_opening', 'neck', 'sleeves', 'hood', 'fastener', 'material', 'design'])\n",
      "Images shape: (32, 224, 224, 3)\n",
      "Labels keys: dict_keys(['category', 'subcategory', 'fit', 'length', 'front_opening', 'neck', 'sleeves', 'hood', 'fastener', 'material', 'design'])\n",
      "Images shape: (32, 224, 224, 3)\n",
      "Labels keys: dict_keys(['category', 'subcategory', 'fit', 'length', 'front_opening', 'neck', 'sleeves', 'hood', 'fastener', 'material', 'design'])\n",
      "Images shape: (32, 224, 224, 3)\n",
      "Labels keys: dict_keys(['category', 'subcategory', 'fit', 'length', 'front_opening', 'neck', 'sleeves', 'hood', 'fastener', 'material', 'design'])\n",
      "Images shape: (11, 224, 224, 3)\n",
      "Labels keys: dict_keys(['category', 'subcategory', 'fit', 'length', 'front_opening', 'neck', 'sleeves', 'hood', 'fastener', 'material', 'design'])\n",
      "Images shape: (32, 224, 224, 3)\n",
      "Labels keys: dict_keys(['category', 'subcategory', 'fit', 'length', 'front_opening', 'neck', 'sleeves', 'hood', 'fastener', 'material', 'design'])\n",
      "Images shape: (32, 224, 224, 3)\n",
      "Labels keys: dict_keys(['category', 'subcategory', 'fit', 'length', 'front_opening', 'neck', 'sleeves', 'hood', 'fastener', 'material', 'design'])\n",
      "Images shape: (32, 224, 224, 3)\n",
      "Labels keys: dict_keys(['category', 'subcategory', 'fit', 'length', 'front_opening', 'neck', 'sleeves', 'hood', 'fastener', 'material', 'design'])\n",
      "Images shape: (32, 224, 224, 3)\n",
      "Labels keys: dict_keys(['category', 'subcategory', 'fit', 'length', 'front_opening', 'neck', 'sleeves', 'hood', 'fastener', 'material', 'design'])\n",
      "Images shape: (32, 224, 224, 3)\n",
      "Labels keys: dict_keys(['category', 'subcategory', 'fit', 'length', 'front_opening', 'neck', 'sleeves', 'hood', 'fastener', 'material', 'design'])\n",
      "Images shape: (32, 224, 224, 3)\n",
      "Labels keys: dict_keys(['category', 'subcategory', 'fit', 'length', 'front_opening', 'neck', 'sleeves', 'hood', 'fastener', 'material', 'design'])\n"
     ]
    },
    {
     "name": "stderr",
     "output_type": "stream",
     "text": [
      "2025-08-07 17:22:16.323625: W tensorflow/core/framework/local_rendezvous.cc:404] Local rendezvous is aborting with status: OUT_OF_RANGE: End of sequence\n"
     ]
    },
    {
     "name": "stdout",
     "output_type": "stream",
     "text": [
      "Images shape: (32, 224, 224, 3)\n",
      "Labels keys: dict_keys(['category', 'subcategory', 'fit', 'length', 'front_opening', 'neck', 'sleeves', 'hood', 'fastener', 'material', 'design'])\n",
      "Images shape: (32, 224, 224, 3)\n",
      "Labels keys: dict_keys(['category', 'subcategory', 'fit', 'length', 'front_opening', 'neck', 'sleeves', 'hood', 'fastener', 'material', 'design'])\n",
      "Images shape: (32, 224, 224, 3)\n",
      "Labels keys: dict_keys(['category', 'subcategory', 'fit', 'length', 'front_opening', 'neck', 'sleeves', 'hood', 'fastener', 'material', 'design'])\n",
      "Images shape: (32, 224, 224, 3)\n",
      "Labels keys: dict_keys(['category', 'subcategory', 'fit', 'length', 'front_opening', 'neck', 'sleeves', 'hood', 'fastener', 'material', 'design'])\n",
      "Images shape: (32, 224, 224, 3)\n",
      "Labels keys: dict_keys(['category', 'subcategory', 'fit', 'length', 'front_opening', 'neck', 'sleeves', 'hood', 'fastener', 'material', 'design'])\n",
      "Images shape: (32, 224, 224, 3)\n",
      "Labels keys: dict_keys(['category', 'subcategory', 'fit', 'length', 'front_opening', 'neck', 'sleeves', 'hood', 'fastener', 'material', 'design'])\n",
      "Images shape: (32, 224, 224, 3)\n",
      "Labels keys: dict_keys(['category', 'subcategory', 'fit', 'length', 'front_opening', 'neck', 'sleeves', 'hood', 'fastener', 'material', 'design'])\n",
      "Images shape: (32, 224, 224, 3)\n",
      "Labels keys: dict_keys(['category', 'subcategory', 'fit', 'length', 'front_opening', 'neck', 'sleeves', 'hood', 'fastener', 'material', 'design'])\n",
      "Images shape: (32, 224, 224, 3)\n",
      "Labels keys: dict_keys(['category', 'subcategory', 'fit', 'length', 'front_opening', 'neck', 'sleeves', 'hood', 'fastener', 'material', 'design'])\n",
      "Images shape: (32, 224, 224, 3)\n",
      "Labels keys: dict_keys(['category', 'subcategory', 'fit', 'length', 'front_opening', 'neck', 'sleeves', 'hood', 'fastener', 'material', 'design'])\n",
      "Images shape: (32, 224, 224, 3)\n",
      "Labels keys: dict_keys(['category', 'subcategory', 'fit', 'length', 'front_opening', 'neck', 'sleeves', 'hood', 'fastener', 'material', 'design'])\n",
      "Images shape: (32, 224, 224, 3)\n",
      "Labels keys: dict_keys(['category', 'subcategory', 'fit', 'length', 'front_opening', 'neck', 'sleeves', 'hood', 'fastener', 'material', 'design'])\n",
      "Images shape: (32, 224, 224, 3)\n",
      "Labels keys: dict_keys(['category', 'subcategory', 'fit', 'length', 'front_opening', 'neck', 'sleeves', 'hood', 'fastener', 'material', 'design'])\n",
      "Images shape: (32, 224, 224, 3)\n",
      "Labels keys: dict_keys(['category', 'subcategory', 'fit', 'length', 'front_opening', 'neck', 'sleeves', 'hood', 'fastener', 'material', 'design'])\n",
      "Images shape: (27, 224, 224, 3)\n",
      "Labels keys: dict_keys(['category', 'subcategory', 'fit', 'length', 'front_opening', 'neck', 'sleeves', 'hood', 'fastener', 'material', 'design'])\n",
      "Images shape: (32, 224, 224, 3)\n",
      "Labels keys: dict_keys(['category', 'subcategory', 'fit', 'length', 'front_opening', 'neck', 'sleeves', 'hood', 'fastener', 'material', 'design'])\n"
     ]
    },
    {
     "name": "stderr",
     "output_type": "stream",
     "text": [
      "2025-08-07 17:22:16.602175: W tensorflow/core/framework/local_rendezvous.cc:404] Local rendezvous is aborting with status: OUT_OF_RANGE: End of sequence\n",
      "2025-08-07 17:22:16.656774: W tensorflow/core/framework/local_rendezvous.cc:404] Local rendezvous is aborting with status: OUT_OF_RANGE: End of sequence\n"
     ]
    }
   ],
   "source": [
    "print(len(train_ds))\n",
    "print(len(val_ds))\n",
    "print(len(test_ds))\n",
    "for images, labels in train_ds.take(84):  # Take one batch\n",
    "    print(\"Images shape:\", images.shape)\n",
    "    print(\"Labels keys:\", labels.keys())\n",
    "    \n",
    "    # for key, value in labels.items():\n",
    "    #     print(f\"{key}: {value.numpy()[:5]}\")  # Show first 5 labels for each key\n",
    "for images, labels in val_ds.take(21):  # Take one batch\n",
    "    print(\"Images shape:\", images.shape)\n",
    "    print(\"Labels keys:\", labels.keys())\n",
    "for images, labels in test_ds.take(1):  # Take one batch\n",
    "    print(\"Images shape:\", images.shape)\n",
    "    print(\"Labels keys:\", labels.keys())"
   ]
  },
  {
   "cell_type": "code",
   "execution_count": 54,
   "id": "56d0c6ab",
   "metadata": {},
   "outputs": [],
   "source": [
    "from mobilevit import create_mobilevit\n",
    "def create_model(df):\n",
    "    pretrained_model = None\n",
    "\n",
    "    match model_name:\n",
    "        case \"MobileNetV2\":\n",
    "            pretrained_model = tf.keras.applications.MobileNetV2(\n",
    "                    input_shape=(input_size,input_size, 3),\n",
    "                    include_top=False,\n",
    "                    weights='imagenet',\n",
    "                    pooling='avg'\n",
    "                    )\n",
    "        case \"MobileViT\":\n",
    "            pretrained_model = create_mobilevit(input_Vit_size)\n",
    "        case \"MobileNetV3Small\":\n",
    "            pretrained_model = tf.keras.applications.MobileNetV3Small(\n",
    "                    input_shape=(input_size,input_size, 3),\n",
    "                    include_top=False,\n",
    "                    weights='imagenet',\n",
    "                    pooling='avg'\n",
    "                    )\n",
    "        case _:\n",
    "            pretrained_model = tf.keras.applications.EfficientNetB0(\n",
    "                    input_shape=(input_size,input_size, 3),\n",
    "                    include_top=False,\n",
    "                    weights='imagenet',\n",
    "                    pooling='avg'\n",
    "                    )    \n",
    "\n",
    "    pretrained_model.trainable = False\n",
    "\n",
    "    inputs = pretrained_model.input\n",
    "    x = tf.keras.layers.Dense(64, activation='relu')(pretrained_model.output)\n",
    "    x = tf.keras.layers.Dense(32, activation='relu')(x)\n",
    "\n",
    "    # example of multi-output model\n",
    "    category = tf.keras.layers.Dense(df[\"category\"].nunique(), activation=\"softmax\", name='category')(x)\n",
    "    subcategory = tf.keras.layers.Dense(df[\"subcategory\"].nunique(),  activation=\"softmax\", name='subcategory')(x)\n",
    "    fit = tf.keras.layers.Dense(df[\"fit\"].nunique(), activation=\"softmax\", name='fit')(x)\n",
    "    length = tf.keras.layers.Dense(df[\"length\"].nunique(),  activation=\"softmax\", name='length')(x)\n",
    "    front_opening = tf.keras.layers.Dense(df[\"front_opening\"].nunique(), activation=\"softmax\", name='front_opening')(x)\n",
    "    neck = tf.keras.layers.Dense(df[\"neck\"].nunique(),  activation=\"softmax\", name='neck')(x)\n",
    "    sleeves = tf.keras.layers.Dense(df[\"sleeves\"].nunique(), activation=\"softmax\", name='sleeves')(x)\n",
    "    hood = tf.keras.layers.Dense(df[\"hood\"].nunique(),  activation=\"softmax\", name='hood')(x)\n",
    "    fastener = tf.keras.layers.Dense(df[\"fastener\"].nunique(), activation=\"softmax\", name='fastener')(x)\n",
    "    material = tf.keras.layers.Dense(df[\"material\"].nunique(),  activation=\"softmax\", name='material')(x)\n",
    "    design = tf.keras.layers.Dense(df[\"design\"].nunique(), activation=\"softmax\", name='design')(x)\n",
    "\n",
    "    outputs = [category , subcategory , fit , length , front_opening , neck , sleeves, hood, fastener, material, design]\n",
    "    model = tf.keras.Model(inputs = inputs, outputs = outputs)\n",
    "    # print(model.summary())\n",
    "    return model"
   ]
  },
  {
   "cell_type": "code",
   "execution_count": 55,
   "id": "824b0330",
   "metadata": {},
   "outputs": [],
   "source": [
    "model = create_model(saved_df)"
   ]
  },
  {
   "cell_type": "code",
   "execution_count": 56,
   "id": "fe2ab035",
   "metadata": {},
   "outputs": [],
   "source": [
    "model.compile(\n",
    "    loss = {\n",
    "        \"category\": keras.losses.SparseCategoricalCrossentropy(),\n",
    "        \"subcategory\": keras.losses.SparseCategoricalCrossentropy(),\n",
    "        \"fit\" : keras.losses.SparseCategoricalCrossentropy() ,\n",
    "        \"length\" : keras.losses.SparseCategoricalCrossentropy() ,\n",
    "        \"front_opening\" : keras.losses.SparseCategoricalCrossentropy() ,\n",
    "        \"neck\" : keras.losses.SparseCategoricalCrossentropy() ,\n",
    "        \"sleeves\" : keras.losses.SparseCategoricalCrossentropy(),\n",
    "        \"hood\" : keras.losses.SparseCategoricalCrossentropy() ,\n",
    "        \"fastener\" : keras.losses.SparseCategoricalCrossentropy() ,\n",
    "        \"material\" : keras.losses.SparseCategoricalCrossentropy() ,\n",
    "        \"design\" : keras.losses.SparseCategoricalCrossentropy()\n",
    "    },\n",
    "    metrics = {\n",
    "        \"category\": keras.metrics.SparseCategoricalAccuracy(),\n",
    "        \"subcategory\": keras.metrics.SparseCategoricalAccuracy(),\n",
    "        \"fit\" : keras.metrics.SparseCategoricalAccuracy() ,\n",
    "        \"length\" : keras.metrics.SparseCategoricalAccuracy() ,\n",
    "        \"front_opening\" : keras.metrics.SparseCategoricalAccuracy() ,\n",
    "        \"neck\" : keras.metrics.SparseCategoricalAccuracy() ,\n",
    "        \"sleeves\" : keras.metrics.SparseCategoricalAccuracy(),\n",
    "        \"hood\" : keras.metrics.SparseCategoricalAccuracy() ,\n",
    "        \"fastener\" : keras.metrics.SparseCategoricalAccuracy() ,\n",
    "        \"material\" : keras.metrics.SparseCategoricalAccuracy() ,\n",
    "        \"design\" : keras.metrics.SparseCategoricalAccuracy()\n",
    "    },\n",
    "    optimizer = keras.optimizers.Adam(learning_rate=0.001)\n",
    ")\n",
    "early_stopping = keras.callbacks.EarlyStopping(monitor='val_loss', patience=5, restore_best_weights=True)"
   ]
  },
  {
   "cell_type": "code",
   "execution_count": 57,
   "id": "580d9cef",
   "metadata": {},
   "outputs": [],
   "source": [
    "from matplotlib import pyplot as plt\n",
    "\n",
    "\n",
    "def plot_history(hist):\n",
    "  plt.figure(figsize=(12, 4))\n",
    "  plt.subplot(1, 2, 1)\n",
    "  for key in hist.history:\n",
    "    if \"accuracy\" in key:  # includes both train and val\n",
    "        plt.plot(hist.history[key], label=key)\n",
    "  plt.title('Model Accuracy')\n",
    "  plt.ylabel('Accuracy')\n",
    "  plt.xlabel('Epoch')\n",
    "  plt.legend(['Train', 'Validation'], loc='upper left')\n",
    "\n",
    "  plt.subplot(1, 2, 2)\n",
    "  plt.plot(hist.history['loss'])\n",
    "  plt.plot(hist.history['val_loss'])\n",
    "  plt.title('Model Loss')\n",
    "  plt.ylabel('Loss')\n",
    "  plt.xlabel('Epoch')\n",
    "  plt.legend(['Train', 'Validation'], loc='upper left')\n",
    "\n",
    "  plt.show()"
   ]
  },
  {
   "cell_type": "code",
   "execution_count": 58,
   "id": "419f03e7",
   "metadata": {},
   "outputs": [
    {
     "name": "stdout",
     "output_type": "stream",
     "text": [
      "Epoch 1/50\n"
     ]
    },
    {
     "name": "stderr",
     "output_type": "stream",
     "text": [
      "I0000 00:00:1754580168.922070  197403 asm_compiler.cc:369] ptxas warning : Registers are spilled to local memory in function 'triton_gemm_dot_3422', 140 bytes spill stores, 140 bytes spill loads\n",
      "\n",
      "I0000 00:00:1754580168.951811  197399 asm_compiler.cc:369] ptxas warning : Registers are spilled to local memory in function 'triton_gemm_dot_3422', 344 bytes spill stores, 336 bytes spill loads\n",
      "\n",
      "I0000 00:00:1754580169.086118  197406 asm_compiler.cc:369] ptxas warning : Registers are spilled to local memory in function 'triton_gemm_dot_7542', 40 bytes spill stores, 40 bytes spill loads\n",
      "\n"
     ]
    },
    {
     "name": "stdout",
     "output_type": "stream",
     "text": [
      "\u001b[1m82/84\u001b[0m \u001b[32m━━━━━━━━━━━━━━━━━━━\u001b[0m\u001b[37m━\u001b[0m \u001b[1m0s\u001b[0m 21ms/step - category_sparse_categorical_accuracy: 0.4472 - design_sparse_categorical_accuracy: 0.7247 - fastener_sparse_categorical_accuracy: 0.6005 - fit_sparse_categorical_accuracy: 0.4032 - front_opening_sparse_categorical_accuracy: 0.6228 - hood_sparse_categorical_accuracy: 0.8582 - length_sparse_categorical_accuracy: 0.9189 - loss: 13.7113 - material_sparse_categorical_accuracy: 0.3863 - neck_sparse_categorical_accuracy: 0.3735 - sleeves_sparse_categorical_accuracy: 0.5825 - subcategory_sparse_categorical_accuracy: 0.0913"
     ]
    },
    {
     "name": "stderr",
     "output_type": "stream",
     "text": [
      "I0000 00:00:1754580181.269876  197598 asm_compiler.cc:369] ptxas warning : Registers are spilled to local memory in function 'triton_gemm_dot_3422', 104 bytes spill stores, 104 bytes spill loads\n",
      "\n"
     ]
    },
    {
     "name": "stdout",
     "output_type": "stream",
     "text": [
      "\u001b[1m84/84\u001b[0m \u001b[32m━━━━━━━━━━━━━━━━━━━━\u001b[0m\u001b[37m\u001b[0m \u001b[1m0s\u001b[0m 155ms/step - category_sparse_categorical_accuracy: 0.4511 - design_sparse_categorical_accuracy: 0.7292 - fastener_sparse_categorical_accuracy: 0.6032 - fit_sparse_categorical_accuracy: 0.4058 - front_opening_sparse_categorical_accuracy: 0.6255 - hood_sparse_categorical_accuracy: 0.8596 - length_sparse_categorical_accuracy: 0.9196 - loss: 13.6362 - material_sparse_categorical_accuracy: 0.3900 - neck_sparse_categorical_accuracy: 0.3777 - sleeves_sparse_categorical_accuracy: 0.5861 - subcategory_sparse_categorical_accuracy: 0.0947"
     ]
    },
    {
     "name": "stderr",
     "output_type": "stream",
     "text": [
      "I0000 00:00:1754580195.817368  197871 asm_compiler.cc:369] ptxas warning : Registers are spilled to local memory in function 'triton_gemm_dot_1485', 112 bytes spill stores, 112 bytes spill loads\n",
      "\n",
      "I0000 00:00:1754580195.972333  197869 asm_compiler.cc:369] ptxas warning : Registers are spilled to local memory in function 'triton_gemm_dot_1485', 344 bytes spill stores, 344 bytes spill loads\n",
      "\n"
     ]
    },
    {
     "name": "stdout",
     "output_type": "stream",
     "text": [
      "\u001b[1m84/84\u001b[0m \u001b[32m━━━━━━━━━━━━━━━━━━━━\u001b[0m\u001b[37m\u001b[0m \u001b[1m41s\u001b[0m 295ms/step - category_sparse_categorical_accuracy: 0.4529 - design_sparse_categorical_accuracy: 0.7314 - fastener_sparse_categorical_accuracy: 0.6045 - fit_sparse_categorical_accuracy: 0.4070 - front_opening_sparse_categorical_accuracy: 0.6268 - hood_sparse_categorical_accuracy: 0.8603 - length_sparse_categorical_accuracy: 0.9199 - loss: 13.5999 - material_sparse_categorical_accuracy: 0.3919 - neck_sparse_categorical_accuracy: 0.3797 - sleeves_sparse_categorical_accuracy: 0.5879 - subcategory_sparse_categorical_accuracy: 0.0964 - val_category_sparse_categorical_accuracy: 0.8321 - val_design_sparse_categorical_accuracy: 0.9895 - val_fastener_sparse_categorical_accuracy: 0.8426 - val_fit_sparse_categorical_accuracy: 0.6522 - val_front_opening_sparse_categorical_accuracy: 0.9220 - val_hood_sparse_categorical_accuracy: 0.9595 - val_length_sparse_categorical_accuracy: 0.9625 - val_loss: 6.5375 - val_material_sparse_categorical_accuracy: 0.7691 - val_neck_sparse_categorical_accuracy: 0.7406 - val_sleeves_sparse_categorical_accuracy: 0.8561 - val_subcategory_sparse_categorical_accuracy: 0.5037\n",
      "Epoch 2/50\n",
      "\u001b[1m84/84\u001b[0m \u001b[32m━━━━━━━━━━━━━━━━━━━━\u001b[0m\u001b[37m\u001b[0m \u001b[1m5s\u001b[0m 28ms/step - category_sparse_categorical_accuracy: 0.8489 - design_sparse_categorical_accuracy: 0.9927 - fastener_sparse_categorical_accuracy: 0.8692 - fit_sparse_categorical_accuracy: 0.6459 - front_opening_sparse_categorical_accuracy: 0.9147 - hood_sparse_categorical_accuracy: 0.9418 - length_sparse_categorical_accuracy: 0.9596 - loss: 5.9062 - material_sparse_categorical_accuracy: 0.8123 - neck_sparse_categorical_accuracy: 0.7629 - sleeves_sparse_categorical_accuracy: 0.8609 - subcategory_sparse_categorical_accuracy: 0.5309 - val_category_sparse_categorical_accuracy: 0.9085 - val_design_sparse_categorical_accuracy: 0.9895 - val_fastener_sparse_categorical_accuracy: 0.8741 - val_fit_sparse_categorical_accuracy: 0.6912 - val_front_opening_sparse_categorical_accuracy: 0.9355 - val_hood_sparse_categorical_accuracy: 0.9640 - val_length_sparse_categorical_accuracy: 0.9625 - val_loss: 4.8381 - val_material_sparse_categorical_accuracy: 0.8636 - val_neck_sparse_categorical_accuracy: 0.7691 - val_sleeves_sparse_categorical_accuracy: 0.8996 - val_subcategory_sparse_categorical_accuracy: 0.6417\n",
      "Epoch 3/50\n",
      "\u001b[1m84/84\u001b[0m \u001b[32m━━━━━━━━━━━━━━━━━━━━\u001b[0m\u001b[37m\u001b[0m \u001b[1m6s\u001b[0m 28ms/step - category_sparse_categorical_accuracy: 0.9062 - design_sparse_categorical_accuracy: 0.9935 - fastener_sparse_categorical_accuracy: 0.8788 - fit_sparse_categorical_accuracy: 0.6764 - front_opening_sparse_categorical_accuracy: 0.9442 - hood_sparse_categorical_accuracy: 0.9506 - length_sparse_categorical_accuracy: 0.9587 - loss: 4.6869 - material_sparse_categorical_accuracy: 0.8809 - neck_sparse_categorical_accuracy: 0.8088 - sleeves_sparse_categorical_accuracy: 0.8924 - subcategory_sparse_categorical_accuracy: 0.6283 - val_category_sparse_categorical_accuracy: 0.9115 - val_design_sparse_categorical_accuracy: 0.9895 - val_fastener_sparse_categorical_accuracy: 0.8846 - val_fit_sparse_categorical_accuracy: 0.7106 - val_front_opening_sparse_categorical_accuracy: 0.9475 - val_hood_sparse_categorical_accuracy: 0.9745 - val_length_sparse_categorical_accuracy: 0.9625 - val_loss: 4.0954 - val_material_sparse_categorical_accuracy: 0.8951 - val_neck_sparse_categorical_accuracy: 0.8411 - val_sleeves_sparse_categorical_accuracy: 0.8921 - val_subcategory_sparse_categorical_accuracy: 0.6957\n",
      "Epoch 4/50\n",
      "\u001b[1m84/84\u001b[0m \u001b[32m━━━━━━━━━━━━━━━━━━━━\u001b[0m\u001b[37m\u001b[0m \u001b[1m6s\u001b[0m 28ms/step - category_sparse_categorical_accuracy: 0.9350 - design_sparse_categorical_accuracy: 0.9903 - fastener_sparse_categorical_accuracy: 0.9049 - fit_sparse_categorical_accuracy: 0.7136 - front_opening_sparse_categorical_accuracy: 0.9600 - hood_sparse_categorical_accuracy: 0.9736 - length_sparse_categorical_accuracy: 0.9538 - loss: 3.8589 - material_sparse_categorical_accuracy: 0.9152 - neck_sparse_categorical_accuracy: 0.8651 - sleeves_sparse_categorical_accuracy: 0.8984 - subcategory_sparse_categorical_accuracy: 0.6852 - val_category_sparse_categorical_accuracy: 0.9235 - val_design_sparse_categorical_accuracy: 0.9895 - val_fastener_sparse_categorical_accuracy: 0.8756 - val_fit_sparse_categorical_accuracy: 0.7091 - val_front_opening_sparse_categorical_accuracy: 0.9535 - val_hood_sparse_categorical_accuracy: 0.9805 - val_length_sparse_categorical_accuracy: 0.9625 - val_loss: 3.8074 - val_material_sparse_categorical_accuracy: 0.9010 - val_neck_sparse_categorical_accuracy: 0.8396 - val_sleeves_sparse_categorical_accuracy: 0.9040 - val_subcategory_sparse_categorical_accuracy: 0.7076\n",
      "Epoch 5/50\n",
      "\u001b[1m84/84\u001b[0m \u001b[32m━━━━━━━━━━━━━━━━━━━━\u001b[0m\u001b[37m\u001b[0m \u001b[1m5s\u001b[0m 28ms/step - category_sparse_categorical_accuracy: 0.9491 - design_sparse_categorical_accuracy: 0.9908 - fastener_sparse_categorical_accuracy: 0.8984 - fit_sparse_categorical_accuracy: 0.7434 - front_opening_sparse_categorical_accuracy: 0.9630 - hood_sparse_categorical_accuracy: 0.9750 - length_sparse_categorical_accuracy: 0.9580 - loss: 3.4838 - material_sparse_categorical_accuracy: 0.9200 - neck_sparse_categorical_accuracy: 0.8694 - sleeves_sparse_categorical_accuracy: 0.9258 - subcategory_sparse_categorical_accuracy: 0.6900 - val_category_sparse_categorical_accuracy: 0.9145 - val_design_sparse_categorical_accuracy: 0.9895 - val_fastener_sparse_categorical_accuracy: 0.8816 - val_fit_sparse_categorical_accuracy: 0.7226 - val_front_opening_sparse_categorical_accuracy: 0.9415 - val_hood_sparse_categorical_accuracy: 0.9835 - val_length_sparse_categorical_accuracy: 0.9625 - val_loss: 3.6483 - val_material_sparse_categorical_accuracy: 0.9130 - val_neck_sparse_categorical_accuracy: 0.8486 - val_sleeves_sparse_categorical_accuracy: 0.9040 - val_subcategory_sparse_categorical_accuracy: 0.7271\n",
      "Epoch 6/50\n",
      "\u001b[1m84/84\u001b[0m \u001b[32m━━━━━━━━━━━━━━━━━━━━\u001b[0m\u001b[37m\u001b[0m \u001b[1m5s\u001b[0m 28ms/step - category_sparse_categorical_accuracy: 0.9517 - design_sparse_categorical_accuracy: 0.9929 - fastener_sparse_categorical_accuracy: 0.9008 - fit_sparse_categorical_accuracy: 0.7385 - front_opening_sparse_categorical_accuracy: 0.9676 - hood_sparse_categorical_accuracy: 0.9763 - length_sparse_categorical_accuracy: 0.9561 - loss: 3.2247 - material_sparse_categorical_accuracy: 0.9279 - neck_sparse_categorical_accuracy: 0.8818 - sleeves_sparse_categorical_accuracy: 0.9195 - subcategory_sparse_categorical_accuracy: 0.7167 - val_category_sparse_categorical_accuracy: 0.9325 - val_design_sparse_categorical_accuracy: 0.9895 - val_fastener_sparse_categorical_accuracy: 0.8966 - val_fit_sparse_categorical_accuracy: 0.7346 - val_front_opening_sparse_categorical_accuracy: 0.9550 - val_hood_sparse_categorical_accuracy: 0.9820 - val_length_sparse_categorical_accuracy: 0.9625 - val_loss: 3.4358 - val_material_sparse_categorical_accuracy: 0.9160 - val_neck_sparse_categorical_accuracy: 0.8516 - val_sleeves_sparse_categorical_accuracy: 0.9025 - val_subcategory_sparse_categorical_accuracy: 0.7301\n",
      "Epoch 7/50\n",
      "\u001b[1m84/84\u001b[0m \u001b[32m━━━━━━━━━━━━━━━━━━━━\u001b[0m\u001b[37m\u001b[0m \u001b[1m5s\u001b[0m 28ms/step - category_sparse_categorical_accuracy: 0.9691 - design_sparse_categorical_accuracy: 0.9885 - fastener_sparse_categorical_accuracy: 0.9128 - fit_sparse_categorical_accuracy: 0.7533 - front_opening_sparse_categorical_accuracy: 0.9781 - hood_sparse_categorical_accuracy: 0.9830 - length_sparse_categorical_accuracy: 0.9502 - loss: 2.9344 - material_sparse_categorical_accuracy: 0.9492 - neck_sparse_categorical_accuracy: 0.8910 - sleeves_sparse_categorical_accuracy: 0.9357 - subcategory_sparse_categorical_accuracy: 0.7285 - val_category_sparse_categorical_accuracy: 0.9280 - val_design_sparse_categorical_accuracy: 0.9895 - val_fastener_sparse_categorical_accuracy: 0.8936 - val_fit_sparse_categorical_accuracy: 0.7391 - val_front_opening_sparse_categorical_accuracy: 0.9580 - val_hood_sparse_categorical_accuracy: 0.9850 - val_length_sparse_categorical_accuracy: 0.9625 - val_loss: 3.3752 - val_material_sparse_categorical_accuracy: 0.9145 - val_neck_sparse_categorical_accuracy: 0.8636 - val_sleeves_sparse_categorical_accuracy: 0.9055 - val_subcategory_sparse_categorical_accuracy: 0.7346\n",
      "Epoch 8/50\n",
      "\u001b[1m84/84\u001b[0m \u001b[32m━━━━━━━━━━━━━━━━━━━━\u001b[0m\u001b[37m\u001b[0m \u001b[1m5s\u001b[0m 28ms/step - category_sparse_categorical_accuracy: 0.9661 - design_sparse_categorical_accuracy: 0.9914 - fastener_sparse_categorical_accuracy: 0.9244 - fit_sparse_categorical_accuracy: 0.7678 - front_opening_sparse_categorical_accuracy: 0.9757 - hood_sparse_categorical_accuracy: 0.9845 - length_sparse_categorical_accuracy: 0.9528 - loss: 2.7962 - material_sparse_categorical_accuracy: 0.9375 - neck_sparse_categorical_accuracy: 0.8907 - sleeves_sparse_categorical_accuracy: 0.9397 - subcategory_sparse_categorical_accuracy: 0.7504 - val_category_sparse_categorical_accuracy: 0.9340 - val_design_sparse_categorical_accuracy: 0.9880 - val_fastener_sparse_categorical_accuracy: 0.8861 - val_fit_sparse_categorical_accuracy: 0.7526 - val_front_opening_sparse_categorical_accuracy: 0.9595 - val_hood_sparse_categorical_accuracy: 0.9835 - val_length_sparse_categorical_accuracy: 0.9625 - val_loss: 3.4177 - val_material_sparse_categorical_accuracy: 0.9130 - val_neck_sparse_categorical_accuracy: 0.8591 - val_sleeves_sparse_categorical_accuracy: 0.9190 - val_subcategory_sparse_categorical_accuracy: 0.7331\n",
      "Epoch 9/50\n",
      "\u001b[1m84/84\u001b[0m \u001b[32m━━━━━━━━━━━━━━━━━━━━\u001b[0m\u001b[37m\u001b[0m \u001b[1m5s\u001b[0m 28ms/step - category_sparse_categorical_accuracy: 0.9674 - design_sparse_categorical_accuracy: 0.9902 - fastener_sparse_categorical_accuracy: 0.9121 - fit_sparse_categorical_accuracy: 0.7755 - front_opening_sparse_categorical_accuracy: 0.9821 - hood_sparse_categorical_accuracy: 0.9885 - length_sparse_categorical_accuracy: 0.9566 - loss: 2.6562 - material_sparse_categorical_accuracy: 0.9507 - neck_sparse_categorical_accuracy: 0.9047 - sleeves_sparse_categorical_accuracy: 0.9473 - subcategory_sparse_categorical_accuracy: 0.7580 - val_category_sparse_categorical_accuracy: 0.9325 - val_design_sparse_categorical_accuracy: 0.9880 - val_fastener_sparse_categorical_accuracy: 0.8936 - val_fit_sparse_categorical_accuracy: 0.7496 - val_front_opening_sparse_categorical_accuracy: 0.9595 - val_hood_sparse_categorical_accuracy: 0.9850 - val_length_sparse_categorical_accuracy: 0.9580 - val_loss: 3.3154 - val_material_sparse_categorical_accuracy: 0.9220 - val_neck_sparse_categorical_accuracy: 0.8651 - val_sleeves_sparse_categorical_accuracy: 0.9205 - val_subcategory_sparse_categorical_accuracy: 0.7391\n",
      "Epoch 10/50\n",
      "\u001b[1m84/84\u001b[0m \u001b[32m━━━━━━━━━━━━━━━━━━━━\u001b[0m\u001b[37m\u001b[0m \u001b[1m6s\u001b[0m 28ms/step - category_sparse_categorical_accuracy: 0.9815 - design_sparse_categorical_accuracy: 0.9919 - fastener_sparse_categorical_accuracy: 0.9378 - fit_sparse_categorical_accuracy: 0.7996 - front_opening_sparse_categorical_accuracy: 0.9838 - hood_sparse_categorical_accuracy: 0.9897 - length_sparse_categorical_accuracy: 0.9599 - loss: 2.2950 - material_sparse_categorical_accuracy: 0.9597 - neck_sparse_categorical_accuracy: 0.9133 - sleeves_sparse_categorical_accuracy: 0.9553 - subcategory_sparse_categorical_accuracy: 0.7784 - val_category_sparse_categorical_accuracy: 0.9475 - val_design_sparse_categorical_accuracy: 0.9895 - val_fastener_sparse_categorical_accuracy: 0.8921 - val_fit_sparse_categorical_accuracy: 0.7331 - val_front_opening_sparse_categorical_accuracy: 0.9565 - val_hood_sparse_categorical_accuracy: 0.9835 - val_length_sparse_categorical_accuracy: 0.9595 - val_loss: 3.3525 - val_material_sparse_categorical_accuracy: 0.9160 - val_neck_sparse_categorical_accuracy: 0.8636 - val_sleeves_sparse_categorical_accuracy: 0.9085 - val_subcategory_sparse_categorical_accuracy: 0.7451\n",
      "Epoch 11/50\n",
      "\u001b[1m84/84\u001b[0m \u001b[32m━━━━━━━━━━━━━━━━━━━━\u001b[0m\u001b[37m\u001b[0m \u001b[1m5s\u001b[0m 28ms/step - category_sparse_categorical_accuracy: 0.9800 - design_sparse_categorical_accuracy: 0.9941 - fastener_sparse_categorical_accuracy: 0.9178 - fit_sparse_categorical_accuracy: 0.8011 - front_opening_sparse_categorical_accuracy: 0.9853 - hood_sparse_categorical_accuracy: 0.9888 - length_sparse_categorical_accuracy: 0.9579 - loss: 2.2976 - material_sparse_categorical_accuracy: 0.9624 - neck_sparse_categorical_accuracy: 0.9093 - sleeves_sparse_categorical_accuracy: 0.9595 - subcategory_sparse_categorical_accuracy: 0.7863 - val_category_sparse_categorical_accuracy: 0.9310 - val_design_sparse_categorical_accuracy: 0.9850 - val_fastener_sparse_categorical_accuracy: 0.8951 - val_fit_sparse_categorical_accuracy: 0.7541 - val_front_opening_sparse_categorical_accuracy: 0.9565 - val_hood_sparse_categorical_accuracy: 0.9850 - val_length_sparse_categorical_accuracy: 0.9565 - val_loss: 3.2844 - val_material_sparse_categorical_accuracy: 0.9175 - val_neck_sparse_categorical_accuracy: 0.8726 - val_sleeves_sparse_categorical_accuracy: 0.9205 - val_subcategory_sparse_categorical_accuracy: 0.7361\n",
      "Epoch 12/50\n",
      "\u001b[1m84/84\u001b[0m \u001b[32m━━━━━━━━━━━━━━━━━━━━\u001b[0m\u001b[37m\u001b[0m \u001b[1m6s\u001b[0m 28ms/step - category_sparse_categorical_accuracy: 0.9831 - design_sparse_categorical_accuracy: 0.9941 - fastener_sparse_categorical_accuracy: 0.9286 - fit_sparse_categorical_accuracy: 0.8145 - front_opening_sparse_categorical_accuracy: 0.9845 - hood_sparse_categorical_accuracy: 0.9930 - length_sparse_categorical_accuracy: 0.9602 - loss: 2.0791 - material_sparse_categorical_accuracy: 0.9696 - neck_sparse_categorical_accuracy: 0.9257 - sleeves_sparse_categorical_accuracy: 0.9658 - subcategory_sparse_categorical_accuracy: 0.8042 - val_category_sparse_categorical_accuracy: 0.9400 - val_design_sparse_categorical_accuracy: 0.9865 - val_fastener_sparse_categorical_accuracy: 0.8981 - val_fit_sparse_categorical_accuracy: 0.7481 - val_front_opening_sparse_categorical_accuracy: 0.9580 - val_hood_sparse_categorical_accuracy: 0.9835 - val_length_sparse_categorical_accuracy: 0.9565 - val_loss: 3.2944 - val_material_sparse_categorical_accuracy: 0.9235 - val_neck_sparse_categorical_accuracy: 0.8726 - val_sleeves_sparse_categorical_accuracy: 0.9235 - val_subcategory_sparse_categorical_accuracy: 0.7511\n",
      "Epoch 13/50\n",
      "\u001b[1m84/84\u001b[0m \u001b[32m━━━━━━━━━━━━━━━━━━━━\u001b[0m\u001b[37m\u001b[0m \u001b[1m5s\u001b[0m 28ms/step - category_sparse_categorical_accuracy: 0.9799 - design_sparse_categorical_accuracy: 0.9926 - fastener_sparse_categorical_accuracy: 0.9357 - fit_sparse_categorical_accuracy: 0.8191 - front_opening_sparse_categorical_accuracy: 0.9837 - hood_sparse_categorical_accuracy: 0.9922 - length_sparse_categorical_accuracy: 0.9559 - loss: 1.9591 - material_sparse_categorical_accuracy: 0.9703 - neck_sparse_categorical_accuracy: 0.9325 - sleeves_sparse_categorical_accuracy: 0.9662 - subcategory_sparse_categorical_accuracy: 0.8184 - val_category_sparse_categorical_accuracy: 0.9355 - val_design_sparse_categorical_accuracy: 0.9865 - val_fastener_sparse_categorical_accuracy: 0.8981 - val_fit_sparse_categorical_accuracy: 0.7286 - val_front_opening_sparse_categorical_accuracy: 0.9550 - val_hood_sparse_categorical_accuracy: 0.9835 - val_length_sparse_categorical_accuracy: 0.9550 - val_loss: 3.4251 - val_material_sparse_categorical_accuracy: 0.9175 - val_neck_sparse_categorical_accuracy: 0.8726 - val_sleeves_sparse_categorical_accuracy: 0.8936 - val_subcategory_sparse_categorical_accuracy: 0.7496\n",
      "Epoch 14/50\n",
      "\u001b[1m84/84\u001b[0m \u001b[32m━━━━━━━━━━━━━━━━━━━━\u001b[0m\u001b[37m\u001b[0m \u001b[1m6s\u001b[0m 28ms/step - category_sparse_categorical_accuracy: 0.9840 - design_sparse_categorical_accuracy: 0.9924 - fastener_sparse_categorical_accuracy: 0.9465 - fit_sparse_categorical_accuracy: 0.8169 - front_opening_sparse_categorical_accuracy: 0.9903 - hood_sparse_categorical_accuracy: 0.9963 - length_sparse_categorical_accuracy: 0.9589 - loss: 1.9016 - material_sparse_categorical_accuracy: 0.9692 - neck_sparse_categorical_accuracy: 0.9351 - sleeves_sparse_categorical_accuracy: 0.9675 - subcategory_sparse_categorical_accuracy: 0.8170 - val_category_sparse_categorical_accuracy: 0.9415 - val_design_sparse_categorical_accuracy: 0.9880 - val_fastener_sparse_categorical_accuracy: 0.8966 - val_fit_sparse_categorical_accuracy: 0.7646 - val_front_opening_sparse_categorical_accuracy: 0.9580 - val_hood_sparse_categorical_accuracy: 0.9820 - val_length_sparse_categorical_accuracy: 0.9535 - val_loss: 3.2550 - val_material_sparse_categorical_accuracy: 0.9250 - val_neck_sparse_categorical_accuracy: 0.8756 - val_sleeves_sparse_categorical_accuracy: 0.9220 - val_subcategory_sparse_categorical_accuracy: 0.7556\n",
      "Epoch 15/50\n",
      "\u001b[1m84/84\u001b[0m \u001b[32m━━━━━━━━━━━━━━━━━━━━\u001b[0m\u001b[37m\u001b[0m \u001b[1m5s\u001b[0m 28ms/step - category_sparse_categorical_accuracy: 0.9862 - design_sparse_categorical_accuracy: 0.9952 - fastener_sparse_categorical_accuracy: 0.9407 - fit_sparse_categorical_accuracy: 0.8406 - front_opening_sparse_categorical_accuracy: 0.9899 - hood_sparse_categorical_accuracy: 0.9956 - length_sparse_categorical_accuracy: 0.9660 - loss: 1.7384 - material_sparse_categorical_accuracy: 0.9803 - neck_sparse_categorical_accuracy: 0.9318 - sleeves_sparse_categorical_accuracy: 0.9660 - subcategory_sparse_categorical_accuracy: 0.8390 - val_category_sparse_categorical_accuracy: 0.9460 - val_design_sparse_categorical_accuracy: 0.9880 - val_fastener_sparse_categorical_accuracy: 0.9025 - val_fit_sparse_categorical_accuracy: 0.7466 - val_front_opening_sparse_categorical_accuracy: 0.9565 - val_hood_sparse_categorical_accuracy: 0.9820 - val_length_sparse_categorical_accuracy: 0.9535 - val_loss: 3.3063 - val_material_sparse_categorical_accuracy: 0.9265 - val_neck_sparse_categorical_accuracy: 0.8726 - val_sleeves_sparse_categorical_accuracy: 0.9250 - val_subcategory_sparse_categorical_accuracy: 0.7496\n",
      "Epoch 16/50\n",
      "\u001b[1m84/84\u001b[0m \u001b[32m━━━━━━━━━━━━━━━━━━━━\u001b[0m\u001b[37m\u001b[0m \u001b[1m6s\u001b[0m 28ms/step - category_sparse_categorical_accuracy: 0.9880 - design_sparse_categorical_accuracy: 0.9934 - fastener_sparse_categorical_accuracy: 0.9481 - fit_sparse_categorical_accuracy: 0.8398 - front_opening_sparse_categorical_accuracy: 0.9907 - hood_sparse_categorical_accuracy: 0.9975 - length_sparse_categorical_accuracy: 0.9660 - loss: 1.6282 - material_sparse_categorical_accuracy: 0.9772 - neck_sparse_categorical_accuracy: 0.9446 - sleeves_sparse_categorical_accuracy: 0.9692 - subcategory_sparse_categorical_accuracy: 0.8506 - val_category_sparse_categorical_accuracy: 0.9415 - val_design_sparse_categorical_accuracy: 0.9880 - val_fastener_sparse_categorical_accuracy: 0.9070 - val_fit_sparse_categorical_accuracy: 0.7541 - val_front_opening_sparse_categorical_accuracy: 0.9610 - val_hood_sparse_categorical_accuracy: 0.9805 - val_length_sparse_categorical_accuracy: 0.9550 - val_loss: 3.3623 - val_material_sparse_categorical_accuracy: 0.9205 - val_neck_sparse_categorical_accuracy: 0.8741 - val_sleeves_sparse_categorical_accuracy: 0.9280 - val_subcategory_sparse_categorical_accuracy: 0.7601\n",
      "Epoch 17/50\n",
      "\u001b[1m84/84\u001b[0m \u001b[32m━━━━━━━━━━━━━━━━━━━━\u001b[0m\u001b[37m\u001b[0m \u001b[1m6s\u001b[0m 28ms/step - category_sparse_categorical_accuracy: 0.9926 - design_sparse_categorical_accuracy: 0.9939 - fastener_sparse_categorical_accuracy: 0.9535 - fit_sparse_categorical_accuracy: 0.8445 - front_opening_sparse_categorical_accuracy: 0.9938 - hood_sparse_categorical_accuracy: 0.9968 - length_sparse_categorical_accuracy: 0.9621 - loss: 1.5456 - material_sparse_categorical_accuracy: 0.9793 - neck_sparse_categorical_accuracy: 0.9424 - sleeves_sparse_categorical_accuracy: 0.9766 - subcategory_sparse_categorical_accuracy: 0.8422 - val_category_sparse_categorical_accuracy: 0.9430 - val_design_sparse_categorical_accuracy: 0.9880 - val_fastener_sparse_categorical_accuracy: 0.9055 - val_fit_sparse_categorical_accuracy: 0.7391 - val_front_opening_sparse_categorical_accuracy: 0.9580 - val_hood_sparse_categorical_accuracy: 0.9805 - val_length_sparse_categorical_accuracy: 0.9565 - val_loss: 3.4516 - val_material_sparse_categorical_accuracy: 0.9325 - val_neck_sparse_categorical_accuracy: 0.8756 - val_sleeves_sparse_categorical_accuracy: 0.9190 - val_subcategory_sparse_categorical_accuracy: 0.7586\n",
      "Epoch 18/50\n",
      "\u001b[1m84/84\u001b[0m \u001b[32m━━━━━━━━━━━━━━━━━━━━\u001b[0m\u001b[37m\u001b[0m \u001b[1m6s\u001b[0m 28ms/step - category_sparse_categorical_accuracy: 0.9922 - design_sparse_categorical_accuracy: 0.9943 - fastener_sparse_categorical_accuracy: 0.9560 - fit_sparse_categorical_accuracy: 0.8459 - front_opening_sparse_categorical_accuracy: 0.9913 - hood_sparse_categorical_accuracy: 0.9981 - length_sparse_categorical_accuracy: 0.9683 - loss: 1.4982 - material_sparse_categorical_accuracy: 0.9855 - neck_sparse_categorical_accuracy: 0.9420 - sleeves_sparse_categorical_accuracy: 0.9757 - subcategory_sparse_categorical_accuracy: 0.8499 - val_category_sparse_categorical_accuracy: 0.9475 - val_design_sparse_categorical_accuracy: 0.9880 - val_fastener_sparse_categorical_accuracy: 0.9070 - val_fit_sparse_categorical_accuracy: 0.7391 - val_front_opening_sparse_categorical_accuracy: 0.9565 - val_hood_sparse_categorical_accuracy: 0.9835 - val_length_sparse_categorical_accuracy: 0.9535 - val_loss: 3.4652 - val_material_sparse_categorical_accuracy: 0.9190 - val_neck_sparse_categorical_accuracy: 0.8666 - val_sleeves_sparse_categorical_accuracy: 0.9265 - val_subcategory_sparse_categorical_accuracy: 0.7511\n",
      "Epoch 19/50\n",
      "\u001b[1m84/84\u001b[0m \u001b[32m━━━━━━━━━━━━━━━━━━━━\u001b[0m\u001b[37m\u001b[0m \u001b[1m6s\u001b[0m 28ms/step - category_sparse_categorical_accuracy: 0.9918 - design_sparse_categorical_accuracy: 0.9920 - fastener_sparse_categorical_accuracy: 0.9567 - fit_sparse_categorical_accuracy: 0.8590 - front_opening_sparse_categorical_accuracy: 0.9942 - hood_sparse_categorical_accuracy: 0.9967 - length_sparse_categorical_accuracy: 0.9686 - loss: 1.4301 - material_sparse_categorical_accuracy: 0.9867 - neck_sparse_categorical_accuracy: 0.9450 - sleeves_sparse_categorical_accuracy: 0.9795 - subcategory_sparse_categorical_accuracy: 0.8657 - val_category_sparse_categorical_accuracy: 0.9475 - val_design_sparse_categorical_accuracy: 0.9880 - val_fastener_sparse_categorical_accuracy: 0.9055 - val_fit_sparse_categorical_accuracy: 0.7451 - val_front_opening_sparse_categorical_accuracy: 0.9610 - val_hood_sparse_categorical_accuracy: 0.9835 - val_length_sparse_categorical_accuracy: 0.9565 - val_loss: 3.4805 - val_material_sparse_categorical_accuracy: 0.9190 - val_neck_sparse_categorical_accuracy: 0.8771 - val_sleeves_sparse_categorical_accuracy: 0.9235 - val_subcategory_sparse_categorical_accuracy: 0.7601\n"
     ]
    }
   ],
   "source": [
    "history = model.fit(train_ds, epochs=50, validation_data=val_ds, batch_size=32, callbacks=[early_stopping])"
   ]
  },
  {
   "cell_type": "code",
   "execution_count": 59,
   "id": "e1a79ae1",
   "metadata": {},
   "outputs": [
    {
     "data": {
      "image/png": "[encoded data removed]",
      "text/plain": [
       "<Figure size 1200x400 with 2 Axes>"
      ]
     },
     "metadata": {},
     "output_type": "display_data"
    }
   ],
   "source": [
    "plot_history(history)"
   ]
  },
  {
   "cell_type": "code",
   "execution_count": 60,
   "id": "05577af2",
   "metadata": {},
   "outputs": [
    {
     "name": "stdout",
     "output_type": "stream",
     "text": [
      "\u001b[1m10/12\u001b[0m \u001b[32m━━━━━━━━━━━━━━━━\u001b[0m\u001b[37m━━━━\u001b[0m \u001b[1m0s\u001b[0m 26ms/step - category_sparse_categorical_accuracy: 0.9264 - design_sparse_categorical_accuracy: 0.9790 - fastener_sparse_categorical_accuracy: 0.8636 - fit_sparse_categorical_accuracy: 0.7333 - front_opening_sparse_categorical_accuracy: 0.9502 - hood_sparse_categorical_accuracy: 0.9836 - length_sparse_categorical_accuracy: 0.9196 - loss: 3.5086 - material_sparse_categorical_accuracy: 0.9079 - neck_sparse_categorical_accuracy: 0.8806 - sleeves_sparse_categorical_accuracy: 0.9565 - subcategory_sparse_categorical_accuracy: 0.7011"
     ]
    },
    {
     "name": "stderr",
     "output_type": "stream",
     "text": [
      "I0000 00:00:1754580304.225076  199984 asm_compiler.cc:369] ptxas warning : Registers are spilled to local memory in function 'triton_gemm_dot_1485', 112 bytes spill stores, 112 bytes spill loads\n",
      "\n",
      "I0000 00:00:1754580304.414795  199975 asm_compiler.cc:369] ptxas warning : Registers are spilled to local memory in function 'triton_gemm_dot_1485', 336 bytes spill stores, 336 bytes spill loads\n",
      "\n"
     ]
    },
    {
     "name": "stdout",
     "output_type": "stream",
     "text": [
      "\u001b[1m12/12\u001b[0m \u001b[32m━━━━━━━━━━━━━━━━━━━━\u001b[0m\u001b[37m\u001b[0m \u001b[1m8s\u001b[0m 754ms/step - category_sparse_categorical_accuracy: 0.9288 - design_sparse_categorical_accuracy: 0.9813 - fastener_sparse_categorical_accuracy: 0.8647 - fit_sparse_categorical_accuracy: 0.7309 - front_opening_sparse_categorical_accuracy: 0.9518 - hood_sparse_categorical_accuracy: 0.9829 - length_sparse_categorical_accuracy: 0.9236 - loss: 3.4997 - material_sparse_categorical_accuracy: 0.9075 - neck_sparse_categorical_accuracy: 0.8812 - sleeves_sparse_categorical_accuracy: 0.9494 - subcategory_sparse_categorical_accuracy: 0.7020\n",
      "Test results: [3.452915668487549, 0.9380053877830505, 0.9892183542251587, 0.8706199526786804, 0.7250673770904541, 0.9568732976913452, 0.9811320900917053, 0.9353099465370178, 0.9056603908538818, 0.8840970396995544, 0.9272237420082092, 0.7035040259361267]\n"
     ]
    }
   ],
   "source": [
    "results = model.evaluate(test_ds)\n",
    "print(\"Test results:\", results)"
   ]
  },
  {
   "cell_type": "code",
   "execution_count": 84,
   "id": "639963f3",
   "metadata": {},
   "outputs": [],
   "source": [
    "\n",
    "y_true = {}\n",
    "y_pred = {}\n",
    "y_pred_yop = {}\n"
   ]
  },
  {
   "cell_type": "code",
   "execution_count": 81,
   "id": "5e066ab0",
   "metadata": {},
   "outputs": [
    {
     "data": {
      "text/plain": [
       "12"
      ]
     },
     "execution_count": 81,
     "metadata": {},
     "output_type": "execute_result"
    }
   ],
   "source": [
    "len(test_ds)"
   ]
  },
  {
   "cell_type": "code",
   "execution_count": 93,
   "id": "18aad733",
   "metadata": {},
   "outputs": [
    {
     "name": "stdout",
     "output_type": "stream",
     "text": [
      "\u001b[1m1/1\u001b[0m \u001b[32m━━━━━━━━━━━━━━━━━━━━\u001b[0m\u001b[37m\u001b[0m \u001b[1m0s\u001b[0m 28ms/step\n"
     ]
    }
   ],
   "source": [
    "for images, labels in test_ds.take(1):\n",
    "    pred = model.predict([images])\n",
    "    # print(classification_report(labels['category'], pred[0]))\n",
    "    # print(confusion_matrix(y_true['category'], y_pred['category']))\n",
    "    \n",
    "    for ind, image in enumerate(images):\n",
    "        # image_np = image.numpy().astype(np.uint8)\n",
    "    #     pil_image = Image.fromarray(image_np)\n",
    "    #     display(pil_image)        \n",
    "        for i, col in enumerate(column_names):\n",
    "            res = tf.argmax(pred[i][ind], axis=0).numpy()\n",
    "            true_label_tensor = labels[col][ind].numpy()\n",
    "            top_k_preds = tf.argsort(pred[i][ind], direction='DESCENDING').numpy()[:5]\n",
    "            # print(res,true_label_tensor, top_k_preds)\n",
    "            if col not in y_true:\n",
    "                y_true[col] = []\n",
    "            y_true[col].append(true_label_tensor)\n",
    "            if col not in y_pred:\n",
    "                y_pred[col] = []\n",
    "            y_pred[col].append(res)\n",
    "            if col not in y_pred_yop:\n",
    "                y_pred_yop[col] = []\n",
    "            y_pred_yop[col].append(top_k_preds)\n",
    "            # pred_label = label_encoders[col].inverse_transform([res])\n",
    "            # true_label = label_encoders[col].inverse_transform([true_label_tensor])\n",
    "            # print(pred_label[0], \"True label:\", true_label)\n",
    "    break"
   ]
  },
  {
   "cell_type": "code",
   "execution_count": null,
   "id": "72dd51e7",
   "metadata": {},
   "outputs": [],
   "source": [
    "# def top_k_classification_report(y_true, top_k_preds, k=5):\n",
    "#     y_pred_topk = []\n",
    "\n",
    "#     for true, topk in zip(y_true, top_k_preds):\n",
    "#         if true in topk:\n",
    "#             y_pred_topk.append(true)  # pretend model predicted correctly\n",
    "#         else:\n",
    "#             y_pred_topk.append(topk[-1])  # use top-1 as fallback \"wrong\" class\n",
    "\n",
    "#     print(classification_report(y_true, y_pred_topk))"
   ]
  },
  {
   "cell_type": "code",
   "execution_count": 83,
   "id": "9777633a",
   "metadata": {},
   "outputs": [
    {
     "name": "stdout",
     "output_type": "stream",
     "text": [
      "              precision    recall  f1-score   support\n",
      "\n",
      "           0       1.00      0.83      0.91        24\n",
      "           1       1.00      1.00      1.00         4\n",
      "           4       0.00      0.00      0.00         8\n",
      "           7       0.67      1.00      0.80         8\n",
      "          11       0.00      0.00      0.00         4\n",
      "          15       1.00      1.00      1.00         8\n",
      "          16       0.88      1.00      0.93        28\n",
      "          17       1.00      0.50      0.67         8\n",
      "          18       0.71      1.00      0.83        20\n",
      "          19       0.00      0.00      0.00         4\n",
      "          20       0.00      0.00      0.00         4\n",
      "          22       1.00      1.00      1.00         4\n",
      "          23       0.00      0.00      0.00         0\n",
      "          29       0.00      0.00      0.00         4\n",
      "\n",
      "    accuracy                           0.75       128\n",
      "   macro avg       0.52      0.52      0.51       128\n",
      "weighted avg       0.72      0.75      0.72       128\n",
      "\n",
      "[[20  0  0  4  0  0  0  0  0  0  0  0  0  0]\n",
      " [ 0  4  0  0  0  0  0  0  0  0  0  0  0  0]\n",
      " [ 0  0  0  0  0  0  0  0  8  0  0  0  0  0]\n",
      " [ 0  0  0  8  0  0  0  0  0  0  0  0  0  0]\n",
      " [ 0  0  0  0  0  0  4  0  0  0  0  0  0  0]\n",
      " [ 0  0  0  0  0  8  0  0  0  0  0  0  0  0]\n",
      " [ 0  0  0  0  0  0 28  0  0  0  0  0  0  0]\n",
      " [ 0  0  0  0  0  0  0  4  0  0  0  0  4  0]\n",
      " [ 0  0  0  0  0  0  0  0 20  0  0  0  0  0]\n",
      " [ 0  0  0  0  0  0  0  0  0  0  0  0  4  0]\n",
      " [ 0  0  0  0  4  0  0  0  0  0  0  0  0  0]\n",
      " [ 0  0  0  0  0  0  0  0  0  0  0  4  0  0]\n",
      " [ 0  0  0  0  0  0  0  0  0  0  0  0  0  0]\n",
      " [ 0  0  0  0  0  0  0  0  0  0  4  0  0  0]]\n"
     ]
    },
    {
     "name": "stderr",
     "output_type": "stream",
     "text": [
      "/home/cat/.env/tf_env/lib/python3.10/site-packages/sklearn/metrics/_classification.py:1731: UndefinedMetricWarning: Precision is ill-defined and being set to 0.0 in labels with no predicted samples. Use `zero_division` parameter to control this behavior.\n",
      "  _warn_prf(average, modifier, f\"{metric.capitalize()} is\", result.shape[0])\n",
      "/home/cat/.env/tf_env/lib/python3.10/site-packages/sklearn/metrics/_classification.py:1731: UndefinedMetricWarning: Recall is ill-defined and being set to 0.0 in labels with no true samples. Use `zero_division` parameter to control this behavior.\n",
      "  _warn_prf(average, modifier, f\"{metric.capitalize()} is\", result.shape[0])\n",
      "/home/cat/.env/tf_env/lib/python3.10/site-packages/sklearn/metrics/_classification.py:1731: UndefinedMetricWarning: Precision is ill-defined and being set to 0.0 in labels with no predicted samples. Use `zero_division` parameter to control this behavior.\n",
      "  _warn_prf(average, modifier, f\"{metric.capitalize()} is\", result.shape[0])\n",
      "/home/cat/.env/tf_env/lib/python3.10/site-packages/sklearn/metrics/_classification.py:1731: UndefinedMetricWarning: Recall is ill-defined and being set to 0.0 in labels with no true samples. Use `zero_division` parameter to control this behavior.\n",
      "  _warn_prf(average, modifier, f\"{metric.capitalize()} is\", result.shape[0])\n",
      "/home/cat/.env/tf_env/lib/python3.10/site-packages/sklearn/metrics/_classification.py:1731: UndefinedMetricWarning: Precision is ill-defined and being set to 0.0 in labels with no predicted samples. Use `zero_division` parameter to control this behavior.\n",
      "  _warn_prf(average, modifier, f\"{metric.capitalize()} is\", result.shape[0])\n",
      "/home/cat/.env/tf_env/lib/python3.10/site-packages/sklearn/metrics/_classification.py:1731: UndefinedMetricWarning: Recall is ill-defined and being set to 0.0 in labels with no true samples. Use `zero_division` parameter to control this behavior.\n",
      "  _warn_prf(average, modifier, f\"{metric.capitalize()} is\", result.shape[0])\n"
     ]
    }
   ],
   "source": [
    "print(classification_report(y_true['subcategory'], y_pred['subcategory']))\n",
    "print(confusion_matrix(y_true['subcategory'], y_pred['subcategory']))"
   ]
  },
  {
   "cell_type": "code",
   "execution_count": null,
   "id": "291b4b9c",
   "metadata": {},
   "outputs": [
    {
     "ename": "NameError",
     "evalue": "name 'model' is not defined",
     "output_type": "error",
     "traceback": [
      "\u001b[0;31m---------------------------------------------------------------------------\u001b[0m",
      "\u001b[0;31mNameError\u001b[0m                                 Traceback (most recent call last)",
      "Cell \u001b[0;32mIn[2], line 1\u001b[0m\n\u001b[0;32m----> 1\u001b[0m \u001b[43mmodel\u001b[49m\u001b[38;5;241m.\u001b[39msave(\u001b[38;5;124m'\u001b[39m\u001b[38;5;124mMobileNetV3Small_test.keras\u001b[39m\u001b[38;5;124m'\u001b[39m)\n",
      "\u001b[0;31mNameError\u001b[0m: name 'model' is not defined"
     ]
    }
   ],
   "source": [
    "# model.save('MobileNetV3Small_test.keras')"
   ]
  },
  {
   "cell_type": "code",
   "execution_count": null,
   "id": "1ea9fcc9",
   "metadata": {},
   "outputs": [
    {
     "name": "stdout",
     "output_type": "stream",
     "text": [
      "INFO:tensorflow:Assets written to: /tmp/tmpu2065ne7/assets\n"
     ]
    },
    {
     "name": "stderr",
     "output_type": "stream",
     "text": [
      "INFO:tensorflow:Assets written to: /tmp/tmpu2065ne7/assets\n"
     ]
    },
    {
     "ename": "",
     "evalue": "",
     "output_type": "error",
     "traceback": [
      "\u001b[1;31mThe Kernel crashed while executing code in the current cell or a previous cell. \n",
      "\u001b[1;31mPlease review the code in the cell(s) to identify a possible cause of the failure. \n",
      "\u001b[1;31mClick <a href='https://aka.ms/vscodeJupyterKernelCrash'>here</a> for more info. \n",
      "\u001b[1;31mView Jupyter <a href='command:jupyter.viewOutput'>log</a> for further details."
     ]
    }
   ],
   "source": [
    "# Convert to TFLite. This form of quantization is called\n",
    "# post-training dynamic-range quantization in TFLite.\n",
    "\n",
    "# Can be run in google colab, here crashes\n",
    "\n",
    "# def convertToTFLite(keras_model, name):\n",
    "#   converter = tf.lite.TFLiteConverter.from_keras_model(keras_model)\n",
    "#   tflmodel = converter.convert()\n",
    "#   file = open( name , 'wb' )\n",
    "#   file.write( tflmodel )\n",
    "\n",
    "# saved_model = keras.models.load_model('MobileNetV3Small_test.keras')\n",
    "# convertToTFLite(saved_model, \"MobileNetV3Small_test.tflite\")"
   ]
  },
  {
   "cell_type": "code",
   "execution_count": 73,
   "id": "d1dc91b2",
   "metadata": {},
   "outputs": [],
   "source": [
    "# datasets i have:\n",
    "# cloth_dataset - images in separate folders\n",
    "# clothing dataset-full - images in one folder with a .csv file (image,sender_id,label,kids, where label is a category: skirt, pants, etc.)\n",
    "# fashion-clothes - images in separate folders (only coats, hoodies, men suits, dresses)\n",
    "# fashionMNIST - images in separate folders (0. T-shirt/top, 1. Trouser, 2. Pullover, 3. Dress, 4. Coat, 5. Sandal, 6. Shirt, 7. Sneaker, 8. Bag, 9. Ankle boot)\n",
    "# new-data-fashio - images in separate folders (black or blue dress, pants, shirt, shoes and shorts)"
   ]
  },
  {
   "cell_type": "code",
   "execution_count": 74,
   "id": "250ad299",
   "metadata": {},
   "outputs": [],
   "source": [
    "# import kagglehub\n",
    "# downloaded\n",
    "# path = kagglehub.dataset_download(\"dqmonn/zalando-store-crawl\") #zalando clothes - folders\n",
    "# kagglehub.dataset_download(\"hammaadali/real-fashion\") #in folders\n",
    "# kagglehub.dataset_download(\"mayukh18/fashion200k-dataset\") #in folders, there are also some labels\n",
    "# kagglehub.dataset_download(\"kritanjalijain/outfititems\") #in folders\n",
    "# kagglehub.dataset_download(\"sivaprasads/fashion-dataset\") #- only images without folders or file\n",
    "# kagglehub.dataset_download(\"anchalsekhrii/fashion-classification-dataset\") #in folders\n",
    "# kagglehub.dataset_download(\"aloofzebra03/clothes-classification-final-aug-split\") #in folders\n",
    "# path = kagglehub.dataset_download(\"kaborg15/vibrent-clothes-rental-dataset\") #- maybe????  CC BY 4.0 - csv file very difficult to process, has labrls in an array\n",
    "\n",
    "\n",
    "# kagglehub.dataset_download(\"tuannguyenvananh/fashion-crawled-images\")# in folders, has culottes is big 81 gb"
   ]
  }
 ],
 "metadata": {
  "kernelspec": {
   "display_name": "tf_env (3.10.12)",
   "language": "python",
   "name": "python3"
  },
  "language_info": {
   "codemirror_mode": {
    "name": "ipython",
    "version": 3
   },
   "file_extension": ".py",
   "mimetype": "text/x-python",
   "name": "python",
   "nbconvert_exporter": "python",
   "pygments_lexer": "ipython3",
   "version": "3.10.12"
  }
 },
 "nbformat": 4,
 "nbformat_minor": 5
}
